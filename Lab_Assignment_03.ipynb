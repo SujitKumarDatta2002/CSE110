{
  "nbformat": 4,
  "nbformat_minor": 0,
  "metadata": {
    "colab": {
      "provenance": []
    },
    "kernelspec": {
      "name": "python3",
      "display_name": "Python 3"
    },
    "language_info": {
      "name": "python"
    }
  },
  "cells": [
    {
      "cell_type": "markdown",
      "source": [
        "Task 01 (A)"
      ],
      "metadata": {
        "id": "JkfIqskM97vP"
      }
    },
    {
      "cell_type": "code",
      "execution_count": null,
      "metadata": {
        "id": "5dPuB9V2SlOI",
        "colab": {
          "base_uri": "https://localhost:8080/"
        },
        "outputId": "a5367521-808e-4231-c1c2-2c837c9208d5"
      },
      "outputs": [
        {
          "output_type": "stream",
          "name": "stdout",
          "text": [
            "24,18,12,6,0,-6"
          ]
        }
      ],
      "source": [
        "  #a\n",
        "\n",
        "# i = 24\n",
        "# while i >= -6:\n",
        "#  print(i,end=\",\")\n",
        "#   i = i - 6\n",
        "\n",
        "i = 24\n",
        "while i >= -6:\n",
        "   if i == -6:\n",
        "     print(i,end=\"\")\n",
        "   else:\n",
        "     print(i,end=\",\")\n",
        "   i = i - 6\n",
        "\n",
        "\n",
        "\n",
        "\n",
        " "
      ]
    },
    {
      "cell_type": "markdown",
      "source": [
        "Task 01 (B)"
      ],
      "metadata": {
        "id": "H1LCxpCAgjjM"
      }
    },
    {
      "cell_type": "code",
      "source": [
        "  #b\n",
        "\n",
        "i = -10\n",
        "while i <= 20:\n",
        "   if i == 20:\n",
        "     print(i,end=\"\")\n",
        "   else:\n",
        "     print(i,end=\",\")\n",
        "   i = i + 5\n"
      ],
      "metadata": {
        "colab": {
          "base_uri": "https://localhost:8080/"
        },
        "id": "DZxXJ529givH",
        "outputId": "1e71701f-c559-488a-c997-77926e3dc4da"
      },
      "execution_count": null,
      "outputs": [
        {
          "output_type": "stream",
          "name": "stdout",
          "text": [
            "-10,-5,0,5,10,15,20"
          ]
        }
      ]
    },
    {
      "cell_type": "markdown",
      "source": [
        "Task 01 (C)"
      ],
      "metadata": {
        "id": "n8mN2HiogqL8"
      }
    },
    {
      "cell_type": "code",
      "source": [
        " #c\n",
        "\n",
        "i = 18\n",
        "while i <= 63:\n",
        "   if i == 63:\n",
        "     print(i,end=\"\")\n",
        "   else:\n",
        "     print(i,end=\",\")\n",
        "   i = i + 9\n",
        "\n",
        "\n"
      ],
      "metadata": {
        "id": "BXrOfwMFgpE-",
        "colab": {
          "base_uri": "https://localhost:8080/"
        },
        "outputId": "6e9e573f-0567-429e-9ac7-9c4313c498c1"
      },
      "execution_count": null,
      "outputs": [
        {
          "output_type": "stream",
          "name": "stdout",
          "text": [
            "18,27,36,45,54,63"
          ]
        }
      ]
    },
    {
      "cell_type": "markdown",
      "source": [
        "Task 01 (D)"
      ],
      "metadata": {
        "id": "lBTztyEIUXRr"
      }
    },
    {
      "cell_type": "code",
      "source": [
        "i = 18\n",
        "while i <= 63:\n",
        "  \n",
        "  if i % 2 != 0:\n",
        "    i = i * (-1)\n",
        "    # print(i,end=\",\")\n",
        "    \n",
        "    if i == -63:\n",
        "     print(i,end=\"\")\n",
        "    else:\n",
        "     print(i,end=\",\")\n",
        "    i = i * (-1)\n",
        "  else:\n",
        "    print(i, end = \",\")\n",
        "\n",
        "  i = i + 9"
      ],
      "metadata": {
        "colab": {
          "base_uri": "https://localhost:8080/"
        },
        "id": "m7sri_iAR9O2",
        "outputId": "9fcae7e1-a163-439a-d426-1dcf6948ac14"
      },
      "execution_count": null,
      "outputs": [
        {
          "output_type": "stream",
          "name": "stdout",
          "text": [
            "18,-27,36,-45,54,-63"
          ]
        }
      ]
    },
    {
      "cell_type": "markdown",
      "source": [
        "Task 02"
      ],
      "metadata": {
        "id": "i7tRQzHnDEdm"
      }
    },
    {
      "cell_type": "code",
      "source": [
        "# name = input(\"Enter the name of his favourite car \")\n",
        "# num = int(input(\"Enter a number \"))\n",
        "\n",
        "# i = 1\n",
        "# while i <= num:\n",
        "#   print(name)\n",
        "#   i += 1\n",
        "\n",
        "x=input('car name: ')\n",
        "y=int(input('enter a number: '))  \n",
        "count =1\n",
        "while(count<=y):\n",
        "       print(x)\n",
        "       count= count+1"
      ],
      "metadata": {
        "colab": {
          "base_uri": "https://localhost:8080/"
        },
        "id": "JnzML4nkDD9S",
        "outputId": "04f1a4e9-3577-4492-c7c5-58e1df4c7775"
      },
      "execution_count": null,
      "outputs": [
        {
          "output_type": "stream",
          "name": "stdout",
          "text": [
            "Enter the name of his favourite car tub\n",
            "Enter a number 3\n",
            "tub\n",
            "tub\n",
            "tub\n",
            "car name: tub\n",
            "enter a number: 3\n",
            "tub\n",
            "tub\n",
            "tub\n"
          ]
        }
      ]
    },
    {
      "cell_type": "markdown",
      "source": [
        "Task 03"
      ],
      "metadata": {
        "id": "fbqzPTIHJsY9"
      }
    },
    {
      "cell_type": "code",
      "source": [
        "total=0\n",
        "for count in range(1,601):\n",
        "     if(count%7==0) and (count%9==0):\n",
        "         total=total+count\n",
        "print(total)"
      ],
      "metadata": {
        "colab": {
          "base_uri": "https://localhost:8080/"
        },
        "id": "qzZkNigDJsCB",
        "outputId": "c17e1fe4-a53c-477d-afec-1b91404c8e62"
      },
      "execution_count": null,
      "outputs": [
        {
          "output_type": "stream",
          "name": "stdout",
          "text": [
            "2835\n"
          ]
        }
      ]
    },
    {
      "cell_type": "markdown",
      "source": [
        "Task 04"
      ],
      "metadata": {
        "id": "SgDtUO_iLMDc"
      }
    },
    {
      "cell_type": "code",
      "source": [
        "#Method 1\n",
        "\n",
        "total=0\n",
        "for count in range(1,601):\n",
        "     if(count%7==0) and (count%9==0):\n",
        "         pass\n",
        "     elif(count%7==0) or (count%9==0):\n",
        "      total=total+count\n",
        "print(total)\n",
        "\n",
        "\n",
        "#Method 2\n",
        "total=0\n",
        "for count in range(1,601):\n",
        "     if((count%7==0) or (count%9==0)) and not((count%7==0) and (count%9==0)):\n",
        "      total=total+count\n",
        "print(total)\n"
      ],
      "metadata": {
        "colab": {
          "base_uri": "https://localhost:8080/"
        },
        "id": "jqbhBJKeLLmi",
        "outputId": "8c16e92d-2227-4d89-eaf9-564cbdeb5523"
      },
      "execution_count": null,
      "outputs": [
        {
          "output_type": "stream",
          "name": "stdout",
          "text": [
            "39814\n"
          ]
        }
      ]
    },
    {
      "cell_type": "markdown",
      "source": [
        "Task 05"
      ],
      "metadata": {
        "id": "EGhNpUO2LxGR"
      }
    },
    {
      "cell_type": "code",
      "source": [
        "# Method 1\n",
        "\n",
        "\n",
        "count = 10\n",
        "for count in range(10,51):\n",
        "  if count % 2 == 0:\n",
        "    pass\n",
        "  else:\n",
        "   print(count,end = \" \")\n",
        "\n",
        "\n",
        "# Method 2\n",
        "\n",
        "count = 10\n",
        "for count in range(11,51,2):\n",
        " print(count,end = \" \")"
      ],
      "metadata": {
        "colab": {
          "base_uri": "https://localhost:8080/"
        },
        "id": "UnIeUZUXLwbI",
        "outputId": "2b9b196f-acd0-4c6d-f468-47592b434c3f"
      },
      "execution_count": null,
      "outputs": [
        {
          "output_type": "stream",
          "name": "stdout",
          "text": [
            "11 13 15 17 19 21 23 25 27 29 31 33 35 37 39 41 43 45 47 49 "
          ]
        }
      ]
    },
    {
      "cell_type": "markdown",
      "source": [
        "Task 06"
      ],
      "metadata": {
        "id": "cNdxWpZgYiLS"
      }
    },
    {
      "cell_type": "code",
      "source": [
        "n = int(input(\"Enter the value of n: \"))\n",
        "\n",
        "sum = 0\n",
        "for count in range(1,(n+1)):\n",
        "  count = count ** 2\n",
        "  if count % 2 == 0:\n",
        "    count = count * (-1)\n",
        "  sum = sum + count \n",
        "print(sum)\n",
        "\n",
        "\n"
      ],
      "metadata": {
        "id": "vS9ljIkwYhVp",
        "colab": {
          "base_uri": "https://localhost:8080/"
        },
        "outputId": "6adde9e5-bc7e-40b6-f023-b4c427c351fe"
      },
      "execution_count": null,
      "outputs": [
        {
          "output_type": "stream",
          "name": "stdout",
          "text": [
            "Enter the value of n 20\n",
            "-210\n"
          ]
        }
      ]
    },
    {
      "cell_type": "markdown",
      "source": [
        "Task 07"
      ],
      "metadata": {
        "id": "-DJMFMi2XBT1"
      }
    },
    {
      "cell_type": "code",
      "source": [
        "# x = map(int(x) for x in input(\"Enter multiple value: \").split(\",\"))\n",
        "\n",
        "# total = 0\n",
        "# for x in range(1,(x+1)):\n",
        "#   if x % 2 !=0:\n",
        "#     sum = sum + x\n",
        "#   print(sum)\n",
        "\n",
        "total=0 \n",
        "count=0 \n",
        "for i in range(0,10): \n",
        "  num = int(input()) \n",
        "  if(num%2!=0): \n",
        "   total+=num \n",
        "   count+=1 \n",
        "print(\"The total of the odd numbers is \",total,\"and their average is\",total/count) "
      ],
      "metadata": {
        "colab": {
          "base_uri": "https://localhost:8080/"
        },
        "id": "bzZdMtqRW_Ys",
        "outputId": "b9067d2d-010a-479c-d419-ccf81dc1b4ba"
      },
      "execution_count": null,
      "outputs": [
        {
          "output_type": "stream",
          "name": "stdout",
          "text": [
            "1\n",
            "2\n",
            "3\n",
            "4\n",
            "5\n",
            "6\n",
            "7\n",
            "8\n",
            "9\n",
            "10\n",
            "The total of the odd numbers is  25 and their average is 5.0\n"
          ]
        }
      ]
    },
    {
      "cell_type": "markdown",
      "source": [
        "Task 08"
      ],
      "metadata": {
        "id": "dVSER7GzeFMm"
      }
    },
    {
      "cell_type": "code",
      "source": [
        "N = int(input(\"Enter a number \"))\n",
        "\n",
        "total=0\n",
        "for count in range(1,(N+1)):\n",
        "     if(count%7==0):\n",
        "         total=total+count\n",
        "print(total)"
      ],
      "metadata": {
        "id": "y0bj5rvGeEiG",
        "colab": {
          "base_uri": "https://localhost:8080/"
        },
        "outputId": "f894153d-eb9e-4496-acb4-dde92baeb7ab"
      },
      "execution_count": null,
      "outputs": [
        {
          "output_type": "stream",
          "name": "stdout",
          "text": [
            "Enter a number 75\n",
            "385\n"
          ]
        }
      ]
    },
    {
      "cell_type": "markdown",
      "source": [
        "Task 09"
      ],
      "metadata": {
        "id": "EOiWlBIkr_SK"
      }
    },
    {
      "cell_type": "code",
      "source": [
        "total=0 \n",
        "count=0 \n",
        "for i in range(0,5): \n",
        "  num = int(input())  \n",
        "  total+=num \n",
        "  print(total) \n",
        " \n"
      ],
      "metadata": {
        "colab": {
          "base_uri": "https://localhost:8080/"
        },
        "id": "zwk0HAWnr-eR",
        "outputId": "40c4c340-6fa9-4534-9130-724522e26215"
      },
      "execution_count": null,
      "outputs": [
        {
          "output_type": "stream",
          "name": "stdout",
          "text": [
            "1\n",
            "2\n",
            "3\n",
            "4\n",
            "5\n",
            "15\n"
          ]
        }
      ]
    },
    {
      "cell_type": "markdown",
      "source": [
        "Task 10"
      ],
      "metadata": {
        "id": "ml7jgZNnytqM"
      }
    },
    {
      "cell_type": "code",
      "source": [
        "# num  = input(\"Enter a number: \")\n",
        "\n",
        "# for i in reversed(num):\n",
        "#   print(i,end=\",\")\n",
        "\n",
        "\n",
        "\n",
        "n = int(input(\"Enter a number: \"))\n",
        "\n",
        "\n",
        "count = 0\n",
        "while n >= 0:\n",
        "  num = n%10\n",
        "  n = n//10\n",
        "  print(num,end=\",\")\n",
        "  # print(n)\n",
        "  count +=1\n",
        "  if n==0:\n",
        "    break\n"
      ],
      "metadata": {
        "id": "w1XY8dohyqwA",
        "colab": {
          "base_uri": "https://localhost:8080/"
        },
        "outputId": "d1cb9a8b-4e70-4e0e-bb29-e13e24ba1627"
      },
      "execution_count": null,
      "outputs": [
        {
          "output_type": "stream",
          "name": "stdout",
          "text": [
            "Enter a number: 32768\n",
            "8,6,7,2,3,"
          ]
        }
      ]
    },
    {
      "cell_type": "markdown",
      "source": [
        "**Task 11**"
      ],
      "metadata": {
        "id": "qKWoFXkwK_bt"
      }
    },
    {
      "cell_type": "code",
      "source": [
        "n = int(input(\"Enter a number: \"))\n",
        "\n",
        "\n",
        "count = 0\n",
        "while n > 0:\n",
        "  n = n//10\n",
        "  count +=1\n",
        "print(count)"
      ],
      "metadata": {
        "colab": {
          "base_uri": "https://localhost:8080/"
        },
        "id": "7NmD5d1bK_Ap",
        "outputId": "4efeea28-8cbe-4e6d-cf92-90f023499e66"
      },
      "execution_count": null,
      "outputs": [
        {
          "output_type": "stream",
          "name": "stdout",
          "text": [
            "Enter a number: 9876\n",
            "4\n"
          ]
        }
      ]
    },
    {
      "cell_type": "markdown",
      "source": [
        "**Task 12**"
      ],
      "metadata": {
        "id": "uJ_2Kf_aMX82"
      }
    },
    {
      "cell_type": "code",
      "source": [
        "n = int(input(\"Enter a number: \"))\n",
        "\n",
        "num = n\n",
        "\n",
        "\n",
        "size = 0\n",
        "while num>0:\n",
        "  num = num//10\n",
        "  size = size + 1\n",
        "\n",
        "\n",
        "while n>0:\n",
        "  dig = n//10**(size - 1)\n",
        "  n = n%10**(size - 1)\n",
        "  size = size - 1\n",
        "  print(dig, end=\",\")"
      ],
      "metadata": {
        "colab": {
          "base_uri": "https://localhost:8080/"
        },
        "id": "s93XT6mIMXqG",
        "outputId": "202a362b-17c3-49cb-b989-0140d22063e1"
      },
      "execution_count": null,
      "outputs": [
        {
          "output_type": "stream",
          "name": "stdout",
          "text": [
            "Enter a number: 32768\n",
            "3,2,7,6,8,"
          ]
        }
      ]
    },
    {
      "cell_type": "markdown",
      "source": [
        "**Task 13**"
      ],
      "metadata": {
        "id": "PBiqy0EZRrPZ"
      }
    },
    {
      "cell_type": "code",
      "source": [
        "n = int(input(\"Enter a number: \"))\n",
        "\n",
        "count = 0\n",
        "for i in range(1,n+1,1):\n",
        "  if n % i == 0:\n",
        "   num = n // i\n",
        "   print(num)\n",
        "   count += 1\n",
        "  else:\n",
        "    pass \n",
        "print(\"Total divisors\",count)"
      ],
      "metadata": {
        "colab": {
          "base_uri": "https://localhost:8080/"
        },
        "id": "qjT6UhEERq1v",
        "outputId": "c023c305-3135-4d40-811f-be3e2eee90c9"
      },
      "execution_count": null,
      "outputs": [
        {
          "output_type": "stream",
          "name": "stdout",
          "text": [
            "Enter a number: 121\n",
            "121\n",
            "11\n",
            "1\n",
            "Total divisors 3\n"
          ]
        }
      ]
    },
    {
      "cell_type": "markdown",
      "source": [
        "**Task 14**"
      ],
      "metadata": {
        "id": "hfM8hBVSTp2I"
      }
    },
    {
      "cell_type": "code",
      "source": [
        "n = int(input(\"Enter any number: \"))\n",
        "sum1 = 0\n",
        "for i in range(1, n):\n",
        "    if(n % i == 0):\n",
        "        sum1 = sum1 + i\n",
        "if (sum1 == n):\n",
        "    print(n,\" is a Perfect number!\")\n",
        "else:\n",
        "    print(n,\" is not a Perfect number!\")"
      ],
      "metadata": {
        "colab": {
          "base_uri": "https://localhost:8080/"
        },
        "id": "1e-omCmOTpgl",
        "outputId": "7f55e660-f339-476d-9b59-4519676efcb1"
      },
      "execution_count": null,
      "outputs": [
        {
          "output_type": "stream",
          "name": "stdout",
          "text": [
            "Enter any number: 33\n",
            "33  is not a Perfect number!\n"
          ]
        }
      ]
    },
    {
      "cell_type": "markdown",
      "source": [
        "**Task 15**"
      ],
      "metadata": {
        "id": "hBtrkHm6Jsvr"
      }
    },
    {
      "cell_type": "code",
      "source": [
        "n = int(input(\"Enter a number: \"))\n",
        "\n",
        "is_prime = True \n",
        "\n",
        "for i in range(2,n,1):\n",
        "  if n%i == 0:\n",
        "   is_prime = False\n",
        "   break\n",
        "\n",
        "   \n",
        "if(is_prime):\n",
        "  print(n,\"is a Prime number\")\n",
        "else:\n",
        "  print(n,\"is not a Prime number\")\n",
        "  "
      ],
      "metadata": {
        "colab": {
          "base_uri": "https://localhost:8080/"
        },
        "id": "pJcHyRB0Jqfk",
        "outputId": "72fb0ed9-18f0-4c55-f0f7-0feeb2bffa2b"
      },
      "execution_count": null,
      "outputs": [
        {
          "output_type": "stream",
          "name": "stdout",
          "text": [
            "Enter a number: 6\n",
            "6 is not a Prime number\n"
          ]
        }
      ]
    },
    {
      "cell_type": "markdown",
      "source": [
        "**Task 16**:"
      ],
      "metadata": {
        "id": "UPaRUsTQZD3Y"
      }
    },
    {
      "cell_type": "code",
      "source": [
        "sum = 0\n",
        "num=int(input(\"Enter a number: \"))\n",
        "\n",
        "maximum = 0\n",
        "minimum = 0\n",
        "\n",
        "\n",
        "\n",
        "for i in range(0,num):\n",
        "  n = int(input( ))\n",
        "  sum = sum + n\n",
        "  if maximum == 0 or n>=maximum:\n",
        "    maximum = n\n",
        "  else:\n",
        "    maximum = maximum\n",
        "  if minimum == 0 or n<=minimum:\n",
        "    minimum = n\n",
        "  else:\n",
        "    minimum = minimum\n",
        "\n",
        "print(\"Sum of the numbers is \",sum)\n",
        "print(\"Average of the numbers is \", sum/num)\n",
        "print(\"Maximum\",maximum)\n",
        "print(\"Minimum\", minimum)"
      ],
      "metadata": {
        "id": "9irxu5m7ZDll",
        "colab": {
          "base_uri": "https://localhost:8080/"
        },
        "outputId": "00725e1c-f111-47b3-bb60-4fd0970a9074"
      },
      "execution_count": null,
      "outputs": [
        {
          "output_type": "stream",
          "name": "stdout",
          "text": [
            "Enter a number: 5\n",
            "10\n",
            "4\n",
            "-1\n",
            "-100\n",
            "1\n",
            "Sum of the numbers is  -86\n",
            "Average of the numbers is  -17.2\n",
            "Maximum 10\n",
            "Minimum -100\n"
          ]
        }
      ]
    },
    {
      "cell_type": "markdown",
      "source": [
        "**Task 17**"
      ],
      "metadata": {
        "id": "fPQw89MiJ7vV"
      }
    },
    {
      "cell_type": "code",
      "source": [
        "n = int(input())\n",
        "for j in range(n):\n",
        " for i in range(n):\n",
        "   print('+', end=\"\")\n",
        " print()"
      ],
      "metadata": {
        "colab": {
          "base_uri": "https://localhost:8080/"
        },
        "id": "0rw1mNhsJ7La",
        "outputId": "b90e4d42-02d8-4f0d-8515-dc295ed60be0"
      },
      "execution_count": null,
      "outputs": [
        {
          "output_type": "stream",
          "name": "stdout",
          "text": [
            "5\n",
            "+++++\n",
            "+++++\n",
            "+++++\n",
            "+++++\n",
            "+++++\n"
          ]
        }
      ]
    },
    {
      "cell_type": "markdown",
      "source": [
        "**Task 18**"
      ],
      "metadata": {
        "id": "lXBk3D4n7Tqq"
      }
    },
    {
      "cell_type": "code",
      "source": [
        "M = int(input(\"Enter row numbers: \"))\n",
        "N = int(input(\"Enter column numbers: \"))\n",
        "\n",
        "for j in range(1,M+1):\n",
        "  for i in range(1,N+1):\n",
        "    print(i,end=\"\")\n",
        "  print()"
      ],
      "metadata": {
        "colab": {
          "base_uri": "https://localhost:8080/"
        },
        "id": "awnuce_h7Rp5",
        "outputId": "270b9d84-931a-48f7-f35a-ef37bd44f2fc"
      },
      "execution_count": null,
      "outputs": [
        {
          "output_type": "stream",
          "name": "stdout",
          "text": [
            "Enter row numbers: 4\n",
            "Enter column numbers: 6\n",
            "123456\n",
            "123456\n",
            "123456\n",
            "123456\n"
          ]
        }
      ]
    },
    {
      "cell_type": "markdown",
      "source": [
        "**Task 19**"
      ],
      "metadata": {
        "id": "0rXRvns27YAl"
      }
    },
    {
      "cell_type": "code",
      "source": [
        "n = int(input())\n",
        "\n",
        "for i in range(1, n+1,1):\n",
        " for j in range(1,i+1,1):\n",
        "   print(j,end=\"\")\n",
        " print()"
      ],
      "metadata": {
        "id": "ctrTTO2G7XcN",
        "colab": {
          "base_uri": "https://localhost:8080/"
        },
        "outputId": "0de84433-81f4-4344-85bf-40ceff9f8c2b"
      },
      "execution_count": null,
      "outputs": [
        {
          "output_type": "stream",
          "name": "stdout",
          "text": [
            "5\n",
            "1\n",
            "12\n",
            "123\n",
            "1234\n",
            "12345\n"
          ]
        }
      ]
    },
    {
      "cell_type": "markdown",
      "source": [
        "**Task 20**"
      ],
      "metadata": {
        "id": "-jfbEhv1gud-"
      }
    },
    {
      "cell_type": "code",
      "source": [
        "x = 0\n",
        "p =0\n",
        "sum = 0\n",
        "p = 1\n",
        "x = 2\n",
        "q = None\n",
        "sum = 0\n",
        "while p < 12:\n",
        "    q = x + p - (sum + 7 / 3) / 3.0 % 2\n",
        "    sum = sum + x + int(q)\n",
        "    x += 1\n",
        "    print(sum)\n",
        "    if x > 5:\n",
        "        p += 4 / 2\n",
        "    else:\n",
        "        p += (3 % 1)\n",
        "sum = int(sum + p)\n",
        "print(sum)\n",
        "\n"
      ],
      "metadata": {
        "colab": {
          "base_uri": "https://localhost:8080/"
        },
        "id": "Z2bH_dPdgq7j",
        "outputId": "85fe67bc-6d5f-4978-d7f0-e8a298438c3f"
      },
      "execution_count": null,
      "outputs": [
        {
          "output_type": "stream",
          "name": "stdout",
          "text": [
            "4\n",
            "10\n",
            "18\n",
            "28\n",
            "42\n",
            "60\n",
            "82\n",
            "108\n",
            "138\n",
            "151\n"
          ]
        }
      ]
    },
    {
      "cell_type": "markdown",
      "source": [
        "**Task 21**"
      ],
      "metadata": {
        "id": "ozWxxya0g2tJ"
      }
    },
    {
      "cell_type": "code",
      "source": [
        "x = 0\n",
        "p = 0\n",
        "sum = 0\n",
        "p = 1\n",
        "x = 2\n",
        "q = 0.0\n",
        "sum = 0\n",
        "while (p < 10) :\n",
        "  q = x + p - (sum + int(5 / 3)) / 3.0 % 2\n",
        "  sum = sum + x + int(q)\n",
        "  x += 1\n",
        "  print(sum)\n",
        "  if (x > 5) :\n",
        "    p += int(4 / 2)\n",
        "  else :\n",
        "    p += 3 % 1\n",
        "sum = sum + p\n",
        "print(sum)\n",
        "\n"
      ],
      "metadata": {
        "colab": {
          "base_uri": "https://localhost:8080/"
        },
        "id": "-lzp1zsBg2Me",
        "outputId": "c0c3b8f5-de57-42a4-b771-5efcb0221128"
      },
      "execution_count": null,
      "outputs": [
        {
          "output_type": "stream",
          "name": "stdout",
          "text": [
            "4\n",
            "9\n",
            "16\n",
            "25\n",
            "39\n",
            "56\n",
            "78\n",
            "104\n",
            "115\n"
          ]
        }
      ]
    },
    {
      "cell_type": "markdown",
      "source": [
        "**Task 22**"
      ],
      "metadata": {
        "id": "mgSFgUoDg9A-"
      }
    },
    {
      "cell_type": "code",
      "source": [
        "x = y = 0 \n",
        "sum = 0\n",
        "while (x < 10):\n",
        "  y = x - 3\n",
        "  while (y < 3):\n",
        "    sum = x - y * 2 \n",
        "    print(sum)\n",
        "    y = y + 1\n",
        "  if (x > 7): \n",
        "    x += 1\n",
        "  else: \n",
        "    x += 3\n",
        "sum = x - y * 2\n",
        "print(sum)\n",
        "\n"
      ],
      "metadata": {
        "colab": {
          "base_uri": "https://localhost:8080/"
        },
        "id": "M5KrUPx4g19c",
        "outputId": "2dab8255-a5d5-4b7e-808c-faef5f1f0446"
      },
      "execution_count": null,
      "outputs": [
        {
          "output_type": "stream",
          "name": "stdout",
          "text": [
            "6\n",
            "4\n",
            "2\n",
            "0\n",
            "-2\n",
            "-4\n",
            "3\n",
            "1\n",
            "-1\n",
            "-2\n"
          ]
        }
      ]
    },
    {
      "cell_type": "markdown",
      "source": [
        "**Task 23**"
      ],
      "metadata": {
        "id": "L3JPtItGhBoe"
      }
    },
    {
      "cell_type": "code",
      "source": [
        "x = 0\n",
        "y = 0\n",
        "sum = 0\n",
        "p = 0.0\n",
        "while (x < 10):\n",
        "    y = x // 2\n",
        "    while (y < x):\n",
        "        p = (x + 10.0) / 2\n",
        "        sum = (sum % 2) + x - y * 2 + int(p)\n",
        "        print(sum)\n",
        "        y = y + 2\n",
        "    if (x > 5):\n",
        "        x += 1\n",
        "    else:\n",
        "        x += 2\n",
        "\n"
      ],
      "metadata": {
        "colab": {
          "base_uri": "https://localhost:8080/"
        },
        "id": "RYM4S0p8g1wt",
        "outputId": "7ab5777e-432d-4841-b90a-9241a4b78d74"
      },
      "execution_count": null,
      "outputs": [
        {
          "output_type": "stream",
          "name": "stdout",
          "text": [
            "6\n",
            "7\n",
            "9\n",
            "5\n",
            "10\n",
            "5\n",
            "10\n",
            "5\n",
            "11\n",
            "7\n",
            "3\n"
          ]
        }
      ]
    },
    {
      "cell_type": "markdown",
      "source": [
        "**Task 24**"
      ],
      "metadata": {
        "id": "CbnjTm_yhEyD"
      }
    },
    {
      "cell_type": "code",
      "source": [
        "test = 1\n",
        "j = 0\n",
        "k = 100\n",
        "while (k > 0):\n",
        "  while ( j < k ):\n",
        "    test = k + j -21\n",
        "    print(str(1 + int (test / 2)))\n",
        "    j += 10\n",
        "  k -= 10\n",
        "test = 1\n",
        "j = 0\n",
        "k = 100\n",
        "\n"
      ],
      "metadata": {
        "colab": {
          "base_uri": "https://localhost:8080/"
        },
        "id": "5q2xefYng1ec",
        "outputId": "fe4663a7-5f97-4ba7-f0b0-c96fe7ecbf35"
      },
      "execution_count": null,
      "outputs": [
        {
          "output_type": "stream",
          "name": "stdout",
          "text": [
            "40\n",
            "45\n",
            "50\n",
            "55\n",
            "60\n",
            "65\n",
            "70\n",
            "75\n",
            "80\n",
            "85\n"
          ]
        }
      ]
    },
    {
      "cell_type": "markdown",
      "source": [
        "**Task 25**"
      ],
      "metadata": {
        "id": "1IdaQMojEdcc"
      }
    },
    {
      "cell_type": "code",
      "source": [
        "\n",
        "\n",
        "n_terms = int(input (\"How many terms the user wants to print? \"))  \n",
        "  \n",
        "# First two terms  \n",
        "n_1 = 0  \n",
        "n_2 = 1  \n",
        "count = 0  \n",
        "  \n",
        "# Now, we will check if the number of terms is valid or not  \n",
        "if n_terms <= 0:  \n",
        "    print (\"Please enter a positive integer, the given number is not valid\")  \n",
        "# if there is only one term, it will return n_1  \n",
        "elif n_terms == 1:  \n",
        "    print (\"The Fibonacci sequence of the numbers up to\", n_terms, \": \")  \n",
        "    print(n_1)  \n",
        "# Then we will generate Fibonacci sequence of number  \n",
        "else:  \n",
        "    print (\"The fibonacci sequence of the numbers is:\")  \n",
        "    while count < n_terms: \n",
        "\n",
        "        print(n_1)  \n",
        "        nth = n_1 + n_2  \n",
        "       # At last, we will update values  \n",
        "        n_1 = n_2  \n",
        "        n_2 = nth  \n",
        "        count += 1  \n",
        "        if  n_terms<n_1:\n",
        "          break"
      ],
      "metadata": {
        "colab": {
          "base_uri": "https://localhost:8080/"
        },
        "id": "kdQh2N442s1o",
        "outputId": "fa20fc0c-845c-4a04-e623-6de6e005fe75"
      },
      "execution_count": null,
      "outputs": [
        {
          "output_type": "stream",
          "name": "stdout",
          "text": [
            "How many terms the user wants to print? 15\n",
            "The fibonacci sequence of the numbers is:\n",
            "0\n",
            "1\n",
            "1\n",
            "2\n",
            "3\n",
            "5\n",
            "8\n",
            "13\n"
          ]
        }
      ]
    },
    {
      "cell_type": "markdown",
      "source": [
        "**Task 26**"
      ],
      "metadata": {
        "id": "inM0wrsvE2GB"
      }
    },
    {
      "cell_type": "code",
      "source": [
        "n = int(input(\"Enter a number: \"))\n",
        "\n",
        "binary = \"\"\n",
        "count = 0\n",
        "while n >= 0:\n",
        "  \n",
        "  num = n%2\n",
        "  n = n//2\n",
        "  binary = str(num) + binary\n",
        "  # print(n)\n",
        "  count +=1\n",
        "  if n==0:\n",
        "    break\n",
        "print(binary)"
      ],
      "metadata": {
        "colab": {
          "base_uri": "https://localhost:8080/"
        },
        "id": "xBXECKIhE1zg",
        "outputId": "da243bdd-c901-4e6b-e130-bd5722316063"
      },
      "execution_count": null,
      "outputs": [
        {
          "output_type": "stream",
          "name": "stdout",
          "text": [
            "Enter a number: 13\n",
            "1101\n"
          ]
        }
      ]
    },
    {
      "cell_type": "code",
      "source": [
        "binary= int(input(\"Enter a number: \"))\n",
        "\n",
        "binary1 = binary\n",
        "decimal, i, n = 0, 0, 0\n",
        "while(binary != 0):\n",
        "        dec = binary % 10\n",
        "        decimal = decimal + dec * pow(2, i)\n",
        "        binary = binary//10\n",
        "        i += 1\n",
        "print(decimal)   \n",
        "     \n",
        " \n"
      ],
      "metadata": {
        "colab": {
          "base_uri": "https://localhost:8080/"
        },
        "id": "fN8nTaVNZKbX",
        "outputId": "4ae2b00b-df3d-4901-f511-408ca680b9ab"
      },
      "execution_count": null,
      "outputs": [
        {
          "output_type": "stream",
          "name": "stdout",
          "text": [
            "Enter a number: 11101\n",
            "29\n"
          ]
        }
      ]
    },
    {
      "cell_type": "markdown",
      "source": [
        "**Task 27**"
      ],
      "metadata": {
        "id": "1u3B-5dcESmd"
      }
    },
    {
      "cell_type": "code",
      "source": [
        "\n",
        "binary= int(input(\"Enter a number: \"))\n",
        "\n",
        "decimal= 0\n",
        "i = 0\n",
        "while(binary != 0):\n",
        "        dec = binary % 10\n",
        "        decimal = decimal + dec * pow(2, i)\n",
        "        binary = binary//10\n",
        "        i += 1\n",
        "print(decimal)"
      ],
      "metadata": {
        "colab": {
          "base_uri": "https://localhost:8080/"
        },
        "id": "a47ypF6_2xlH",
        "outputId": "5c9a9faa-27b3-482d-a793-02c215a2efec"
      },
      "execution_count": null,
      "outputs": [
        {
          "output_type": "stream",
          "name": "stdout",
          "text": [
            "Enter a number: 1010\n",
            "15\n"
          ]
        }
      ]
    },
    {
      "cell_type": "markdown",
      "source": [
        "**Task 28**"
      ],
      "metadata": {
        "id": "zZQnvthSEMWv"
      }
    },
    {
      "cell_type": "code",
      "source": [
        "# Python program to display all the prime numbers within an interval\n",
        "\n",
        "lower = int(input(\"Enter a number: \"))\n",
        "upper = int(input(\"Enter a number: \"))\n",
        "\n",
        "print(\"Prime numbers between\", lower, \"and\", upper, \"are:\")\n",
        "\n",
        "for num in range(lower, upper + 1):\n",
        "   # all prime numbers are greater than 1\n",
        "   if num > 1:\n",
        "       for i in range(2, num):\n",
        "           if (num % i) == 0:\n",
        "               break\n",
        "       else:\n",
        "              print(num,end=\",\")\n",
        "sum1 = 0\n",
        "for i in range(lower, upper):\n",
        "    if(lower % i == 0):\n",
        "        sum1 = sum1 + i\n",
        "    elif(upper % i == 0):\n",
        "        sum1 = sum1 + i\n",
        "if (sum1 == lower) or (sum1==upper) :\n",
        "    print(n,\" is a Perfect number!\")\n",
        "\n"
      ],
      "metadata": {
        "colab": {
          "base_uri": "https://localhost:8080/"
        },
        "id": "IiAPuG_42xY7",
        "outputId": "42404978-d54f-430c-fe4a-d65a737d0452"
      },
      "execution_count": null,
      "outputs": [
        {
          "output_type": "stream",
          "name": "stdout",
          "text": [
            "Enter a number: 2\n",
            "Enter a number: 6\n",
            "Prime numbers between 2 and 6 are:\n",
            "2\n",
            "3\n",
            "5\n",
            "0  is not a Perfect number!\n"
          ]
        }
      ]
    },
    {
      "cell_type": "markdown",
      "source": [
        "**Task 29**"
      ],
      "metadata": {
        "id": "RpsoJCKlEieP"
      }
    },
    {
      "cell_type": "code",
      "source": [
        "lower=input(\"Enter lower range limit:\")\n",
        "upper=input(\"Enter upper range limit:\")\n",
        "n=int(input(\"Enter the number to be divided by:\"))\n",
        "for i in range(int(lower),int(upper)+1):\n",
        "    if(i%n==0):\n",
        "        print(i)\n",
        "\n",
        "\n",
        "for i in range(int(lower[1]),11):\n",
        "  num = int(lower[0]) * int(lower[i])\n",
        "  print(num)"
      ],
      "metadata": {
        "id": "MYZ6w4fh2xNV",
        "colab": {
          "base_uri": "https://localhost:8080/",
          "height": 287
        },
        "outputId": "f99d7f7d-95fc-4c41-c009-e2069aec1551"
      },
      "execution_count": null,
      "outputs": [
        {
          "output_type": "stream",
          "name": "stdout",
          "text": [
            "Enter lower range limit:25\n",
            "Enter upper range limit:30\n",
            "Enter the number to be divided by:4\n",
            "28\n"
          ]
        },
        {
          "output_type": "error",
          "ename": "IndexError",
          "evalue": "ignored",
          "traceback": [
            "\u001b[0;31m---------------------------------------------------------------------------\u001b[0m",
            "\u001b[0;31mIndexError\u001b[0m                                Traceback (most recent call last)",
            "\u001b[0;32m<ipython-input-43-fe9342e63d6a>\u001b[0m in \u001b[0;36m<module>\u001b[0;34m\u001b[0m\n\u001b[1;32m      8\u001b[0m \u001b[0;34m\u001b[0m\u001b[0m\n\u001b[1;32m      9\u001b[0m \u001b[0;32mfor\u001b[0m \u001b[0mi\u001b[0m \u001b[0;32min\u001b[0m \u001b[0mrange\u001b[0m\u001b[0;34m(\u001b[0m\u001b[0mint\u001b[0m\u001b[0;34m(\u001b[0m\u001b[0mlower\u001b[0m\u001b[0;34m[\u001b[0m\u001b[0;36m1\u001b[0m\u001b[0;34m]\u001b[0m\u001b[0;34m)\u001b[0m\u001b[0;34m,\u001b[0m\u001b[0;36m11\u001b[0m\u001b[0;34m)\u001b[0m\u001b[0;34m:\u001b[0m\u001b[0;34m\u001b[0m\u001b[0;34m\u001b[0m\u001b[0m\n\u001b[0;32m---> 10\u001b[0;31m   \u001b[0mnum\u001b[0m \u001b[0;34m=\u001b[0m \u001b[0mint\u001b[0m\u001b[0;34m(\u001b[0m\u001b[0mlower\u001b[0m\u001b[0;34m[\u001b[0m\u001b[0;36m0\u001b[0m\u001b[0;34m]\u001b[0m\u001b[0;34m)\u001b[0m \u001b[0;34m*\u001b[0m \u001b[0mint\u001b[0m\u001b[0;34m(\u001b[0m\u001b[0mlower\u001b[0m\u001b[0;34m[\u001b[0m\u001b[0mi\u001b[0m\u001b[0;34m]\u001b[0m\u001b[0;34m)\u001b[0m\u001b[0;34m\u001b[0m\u001b[0;34m\u001b[0m\u001b[0m\n\u001b[0m\u001b[1;32m     11\u001b[0m   \u001b[0mprint\u001b[0m\u001b[0;34m(\u001b[0m\u001b[0mnum\u001b[0m\u001b[0;34m)\u001b[0m\u001b[0;34m\u001b[0m\u001b[0;34m\u001b[0m\u001b[0m\n",
            "\u001b[0;31mIndexError\u001b[0m: string index out of range"
          ]
        }
      ]
    }
  ]
}