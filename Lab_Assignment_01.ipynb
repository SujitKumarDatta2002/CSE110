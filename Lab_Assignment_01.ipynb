{
  "cells": [
    {
      "cell_type": "markdown",
      "metadata": {
        "id": "fP1Ruz_n6Imt"
      },
      "source": [
        "Task 01"
      ]
    },
    {
      "cell_type": "code",
      "execution_count": null,
      "metadata": {
        "colab": {
          "base_uri": "https://localhost:8080/"
        },
        "id": "DyGDS9Im5_Bo",
        "outputId": "5a8158ea-20ff-4ce8-f35f-484ac29a0d9b"
      },
      "outputs": [
        {
          "name": "stdout",
          "output_type": "stream",
          "text": [
            "hello world\n"
          ]
        }
      ],
      "source": [
        "print(\"hello world\")"
      ]
    },
    {
      "cell_type": "markdown",
      "metadata": {
        "id": "Zm30N4Ae6S_b"
      },
      "source": [
        "Task 02"
      ]
    },
    {
      "cell_type": "code",
      "execution_count": null,
      "metadata": {
        "colab": {
          "base_uri": "https://localhost:8080/"
        },
        "id": "rabm1PTD6SNx",
        "outputId": "e0c16626-078a-4096-bf75-bc199e6fb02c"
      },
      "outputs": [
        {
          "name": "stdout",
          "output_type": "stream",
          "text": [
            "110\n"
          ]
        }
      ],
      "source": [
        "print(54 + 56)"
      ]
    },
    {
      "cell_type": "markdown",
      "metadata": {
        "id": "0oAEy9jY6be9"
      },
      "source": [
        "Task 03"
      ]
    },
    {
      "cell_type": "code",
      "execution_count": null,
      "metadata": {
        "colab": {
          "base_uri": "https://localhost:8080/"
        },
        "id": "4bucG0AY6bKx",
        "outputId": "0ac3d288-8c5d-4bed-9ca5-e978001a84c5"
      },
      "outputs": [
        {
          "name": "stdout",
          "output_type": "stream",
          "text": [
            "Fall \n",
            "2022\n",
            "Fall \n",
            "2022\n"
          ]
        }
      ],
      "source": [
        "season = \"Fall \"\n",
        "year = \"2022\"\n",
        "\n",
        "print(season+\"\\n\"+year)\n",
        "\n",
        "#print(season,year, sep='\\n')\n",
        "\n",
        "#print(season, year, sep='\\n')\n",
        "\n",
        "print(season)\n",
        "print(year)\n",
        "\n",
        "# from __future__ import print_function\n",
        "\n",
        "# season = \"Fall \"\n",
        "# year = \"2022\"\n",
        "\n",
        "# print(season, year, sep='\\n') \n"
      ]
    },
    {
      "cell_type": "markdown",
      "metadata": {
        "id": "pWu6mSZ__Mfu"
      },
      "source": [
        "Task 04"
      ]
    },
    {
      "cell_type": "code",
      "execution_count": null,
      "metadata": {
        "colab": {
          "base_uri": "https://localhost:8080/"
        },
        "id": "PUGVb6AP_MK4",
        "outputId": "e301205c-2269-4021-96e5-4a05189680c3"
      },
      "outputs": [
        {
          "name": "stdout",
          "output_type": "stream",
          "text": [
            "Enter your name Albert\n",
            "Your name is  Albert\n"
          ]
        }
      ],
      "source": [
        "name = input(\"Enter your name \")\n",
        "print(\"Your name is \", name)"
      ]
    },
    {
      "cell_type": "markdown",
      "metadata": {
        "id": "I2M2Tg5Z_5zp"
      },
      "source": [
        "Task 05"
      ]
    },
    {
      "cell_type": "code",
      "execution_count": null,
      "metadata": {
        "colab": {
          "base_uri": "https://localhost:8080/"
        },
        "id": "Nl1ej89p_4_i",
        "outputId": "2f30f883-66c8-4028-85a4-150d98e1c338"
      },
      "outputs": [
        {
          "name": "stdout",
          "output_type": "stream",
          "text": [
            "Enter a number 10\n",
            "Enter power 3\n",
            "1000\n"
          ]
        }
      ],
      "source": [
        "M = input(\"Enter a number \")\n",
        "M = int(M)\n",
        "N = input(\"Enter power \")\n",
        "N = int(N)\n",
        "\n",
        "print(M ** N)"
      ]
    },
    {
      "cell_type": "markdown",
      "metadata": {
        "id": "bOs-wnF0Ge-n"
      },
      "source": [
        "Task 06"
      ]
    },
    {
      "cell_type": "code",
      "execution_count": null,
      "metadata": {
        "colab": {
          "base_uri": "https://localhost:8080/"
        },
        "id": "uKbnhHY2Gc0J",
        "outputId": "9e1e2e94-de9a-454a-fb2d-aab7f7228746"
      },
      "outputs": [
        {
          "name": "stdout",
          "output_type": "stream",
          "text": [
            "Enter total weight of shipment: 23\n",
            "The maximum weight the boat can take from the given shipment is  20\n"
          ]
        }
      ],
      "source": [
        "shipment = int(input(\"Enter total weight of shipment: \"))\n",
        "weight = shipment % 4\n",
        "if weight == 0:\n",
        "  print(\"The maximum weight the boat can take from the given shipment is \", weight)\n",
        "else:\n",
        "  print(\"The maximum weight the boat can take from the given shipment is \",shipment - weight)"
      ]
    },
    {
      "cell_type": "markdown",
      "metadata": {
        "id": "ODsMMfCrJXD5"
      },
      "source": [
        "Task 07"
      ]
    },
    {
      "cell_type": "code",
      "execution_count": null,
      "metadata": {
        "colab": {
          "base_uri": "https://localhost:8080/"
        },
        "id": "RYw6TSVqJVMX",
        "outputId": "392cf586-3d69-49bd-b9ff-ea61132a8066"
      },
      "outputs": [
        {
          "name": "stdout",
          "output_type": "stream",
          "text": [
            "Enter the value of M Python\n",
            "Enter the value of N 3\n",
            "3Python\n"
          ]
        }
      ],
      "source": [
        "M = input(\"Enter the value of M \")\n",
        "N = input(\"Enter the value of N \")\n",
        "\n",
        "print(N + M )"
      ]
    },
    {
      "cell_type": "markdown",
      "metadata": {
        "id": "LORmCpqsJceh"
      },
      "source": [
        "Task 08"
      ]
    },
    {
      "cell_type": "code",
      "execution_count": null,
      "metadata": {
        "colab": {
          "base_uri": "https://localhost:8080/"
        },
        "id": "IZtt8yLOJVXm",
        "outputId": "b2309da5-3180-4216-ad0e-bc98254edf61"
      },
      "outputs": [
        {
          "name": "stdout",
          "output_type": "stream",
          "text": [
            "Enter a line: Python is an interpreted language\n",
            "P\n"
          ]
        }
      ],
      "source": [
        "line = input(\"Enter a line: \")\n",
        "print(line[0])"
      ]
    },
    {
      "cell_type": "markdown",
      "metadata": {
        "id": "3dQYe3jyJfSC"
      },
      "source": [
        "Task 09"
      ]
    },
    {
      "cell_type": "code",
      "execution_count": null,
      "metadata": {
        "colab": {
          "base_uri": "https://localhost:8080/"
        },
        "id": "3zYUyzwEJVi2",
        "outputId": "54824cb5-83b8-44c9-e9d9-7589d786035b"
      },
      "outputs": [
        {
          "name": "stdout",
          "output_type": "stream",
          "text": [
            "Enter a nuber: -26\n",
            "True\n"
          ]
        }
      ],
      "source": [
        "number = int(input(\"Enter a nuber: \"))\n",
        "\n",
        "if number%2 == 0:\n",
        "  print(True)\n",
        "else:\n",
        "    print(False)"
      ]
    },
    {
      "cell_type": "markdown",
      "metadata": {
        "id": "KBHv5EXOJhMI"
      },
      "source": [
        "Task 10"
      ]
    },
    {
      "cell_type": "code",
      "execution_count": null,
      "metadata": {
        "colab": {
          "base_uri": "https://localhost:8080/"
        },
        "id": "RLEFhCxfJVsk",
        "outputId": "b0a8b9a2-0dcc-4d18-8b35-c5d3e19a499c"
      },
      "outputs": [
        {
          "name": "stdout",
          "output_type": "stream",
          "text": [
            "Enter integer value of A: 88\n",
            "Enter integer value of B: 22\n",
            "Enter integer value of C: 1\n",
            "Enter floating number of D: 3.3\n",
            "2022\n"
          ]
        }
      ],
      "source": [
        "A = int(input(\"Enter integer value of A: \"))\n",
        "B = int(input(\"Enter integer value of B: \"))\n",
        "C = int(input(\"Enter integer value of C: \"))\n",
        "D = float(input(\"Enter floating number of D: \"))\n",
        "\n",
        "formula = A ** C + (B * A) - D/3\n",
        "print(int(formula))"
      ]
    },
    {
      "cell_type": "markdown",
      "metadata": {
        "id": "K-gi_cNgJjdz"
      },
      "source": [
        "Task 11"
      ]
    },
    {
      "cell_type": "code",
      "execution_count": null,
      "metadata": {
        "colab": {
          "base_uri": "https://localhost:8080/"
        },
        "id": "ZjJqdeFGJV2x",
        "outputId": "b784b3ec-e37a-406e-f9b0-87c8a4240ec6"
      },
      "outputs": [
        {
          "name": "stdout",
          "output_type": "stream",
          "text": [
            "Enter the number of chocolates: 50\n",
            "Each friend will receive 16 chocolates\n",
            "The number of remaining chocolates is  2\n"
          ]
        }
      ],
      "source": [
        "chocolates = int(input(\"Enter the number of chocolates: \"))\n",
        "\n",
        "print(\"Each friend will receive\", int(chocolates/3),\"chocolates\")\n",
        "print(\"The number of remaining chocolates is \", chocolates%3)"
      ]
    }
  ],
  "metadata": {
    "colab": {
      "provenance": []
    },
    "kernelspec": {
      "display_name": "Python 3",
      "language": "python",
      "name": "python3"
    },
    "language_info": {
      "name": "python",
      "version": "3.10.7 (tags/v3.10.7:6cc6b13, Sep  5 2022, 14:08:36) [MSC v.1933 64 bit (AMD64)]"
    },
    "vscode": {
      "interpreter": {
        "hash": "45446571a1dd78e2e32e7d307011dd88be5012a536fa99b069f150ccdbbf577b"
      }
    }
  },
  "nbformat": 4,
  "nbformat_minor": 0
}
