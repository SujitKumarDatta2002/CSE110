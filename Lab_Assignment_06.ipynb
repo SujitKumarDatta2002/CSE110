{
 "cells": [
  {
   "cell_type": "markdown",
   "metadata": {},
   "source": [
    "Task 01\n",
    "\n",
    "Assume, you have been given a tuple.\n",
    "a_tuple = (\"The Institute\", (\"Best Mystery & Thriller\", \"The Silent Patient\", 68821), 75717,\n",
    "[1, 2, 3, 400, 5, 6, 7], (\"Best Fiction\", \"The Testaments\", 98291))\n",
    "Write one line of Python code to access and print the value 400.\n",
    "===================================================================\n",
    "Output: 400\n",
    "==================================================================="
   ]
  },
  {
   "cell_type": "code",
   "execution_count": 3,
   "metadata": {},
   "outputs": [
    {
     "name": "stdout",
     "output_type": "stream",
     "text": [
      "400\n"
     ]
    }
   ],
   "source": [
    "a_tuple = (\"The Institute\", (\"Best Mystery & Thriller\", \"The Silent Patient\", 68821), 75717,\n",
    "[1, 2, 3, 400, 5, 6, 7], (\"Best Fiction\", \"The Testaments\", 98291))\n",
    "print(a_tuple[3][3])"
   ]
  },
  {
   "cell_type": "markdown",
   "metadata": {},
   "source": [
    "Task 02\n",
    "\n",
    "Assume, you have been given a tuple. Write a Python program that creates a new tuple excluding the first and last two elements of the given tuple and prints the new tuple.\n",
    "Hint: You may use tuple slicing.\n",
    "===================================================================\n",
    "Sample Input 1:\n",
    "(10, 20, 24, 25, 26, 35, 70)\n",
    "Sample Output 1:\n",
    "(24, 25, 26)\n",
    "===================================================================\n",
    "Sample Input 2:\n",
    "(-10, 20, 30, 40)\n",
    "Sample Output 2:\n",
    "()\n",
    "===================================================================\n",
    "Sample Input 3:\n",
    "(-10, 20, 25, 30, 40)\n",
    "Sample Output 3:\n",
    "(25,)\n"
   ]
  },
  {
   "cell_type": "code",
   "execution_count": 4,
   "metadata": {},
   "outputs": [
    {
     "name": "stdout",
     "output_type": "stream",
     "text": [
      "(25,)\n"
     ]
    }
   ],
   "source": [
    "# user = input(\"Enter the element of the tuple: \")\n",
    "# tuple_1 = tuple(int(x) for x in user.split(\",\"))\n",
    "\n",
    "tuple_1 = (10, 20, 24, 25, 26, 35, 70)\n",
    "newTuple = tuple_1[2:len(tuple_1)-2]\n",
    "print(newTuple)\n"
   ]
  },
  {
   "cell_type": "markdown",
   "metadata": {},
   "source": [
    "Task 03\n",
    "\n",
    "Assume, you have been given a tuple.\n",
    "book_info = (\n",
    "(\"Best Mystery & Thriller\",\"The Silent Patient\",68,821),\n",
    "(\"Best Horror\",\"The Institute\",75,717),\n",
    "(\"Best History & Biography\",\"The five\",31,783 ),\n",
    "(\"Best Fiction\",\"The Testaments\",98,291)\n",
    ")\n",
    "Write a Python program that prints the size of the tuple and all its elements as shown below.\n",
    "===================================================================\n",
    "Output:\n",
    "Size of the tuple is: 4\n",
    "('Best Mystery & Thriller', 'The Silent Patient', 68, 821)\n",
    "('Best Horror', 'The Institute', 75, 717)\n",
    "('Best History & Biography', 'The five', 31, 783)\n",
    "('Best Fiction', 'The Testaments', 98, 291)\n",
    "===================================================================\n"
   ]
  },
  {
   "cell_type": "code",
   "execution_count": 2,
   "metadata": {},
   "outputs": [
    {
     "name": "stdout",
     "output_type": "stream",
     "text": [
      "Size of the tuple is:  4\n",
      "('Best Mystery & Thriller', 'The Silent Patient', 68, 821)\n",
      "('Best Horror', 'The Institute', 75, 717)\n",
      "('Best History & Biography', 'The five', 31, 783)\n",
      "('Best Fiction', 'The Testaments', 98, 291)\n"
     ]
    }
   ],
   "source": [
    "book_info = (\n",
    "(\"Best Mystery & Thriller\",\"The Silent Patient\",68,821),\n",
    "(\"Best Horror\",\"The Institute\",75,717),\n",
    "(\"Best History & Biography\",\"The five\",31,783 ),\n",
    "(\"Best Fiction\",\"The Testaments\",98,291)\n",
    ")\n",
    "\n",
    "print(\"Size of the tuple is: \",len(book_info))\n",
    "\n",
    "for i in book_info:\n",
    "    print(i)\n"
   ]
  },
  {
   "cell_type": "markdown",
   "metadata": {},
   "source": [
    "Task 04\n",
    "\n",
    "Assume, you have been given a tuple with details about books that won the Good Reads Choice Awards.\n",
    "book_info = (\n",
    "(\"Best Mystery & Thriller\",\"The Silent Patient\",68821),\n",
    "(\"Best Horror\",\"The Institute\",75717),\n",
    "(\"Best History & Biography\",\"The five\",31783 ),\n",
    "(\"Best Fiction\",\"The Testaments\",98291)\n",
    ") \n",
    "Write a Python program that prints the award category, the book name, and its total votes earned as shown below.\n",
    "[Must use Tuple unpacking for printing and need to handle the quotation marks as a part of the output]\n",
    "===================================================================\n",
    "Output:\n",
    "The Silent Patient won the 'Best Mystery & Thriller' category with 68821 votes\n",
    "The Institute won the 'Best Horror' category with 75717 votes\n",
    "The five won the 'Best History & Biography' category with 31783 votes\n",
    "The Testaments won the 'Best Fiction' category with 98291 votes\n",
    "===================================================================\n"
   ]
  },
  {
   "cell_type": "code",
   "execution_count": 1,
   "metadata": {},
   "outputs": [
    {
     "name": "stdout",
     "output_type": "stream",
     "text": [
      "('Best Mystery & Thriller', 'The Silent Patient', 68821) ('Best Horror', 'The Institute', 75717) ('Best History & Biography', 'The five', 31783) ('Best Fiction', 'The Testaments', 98291)\n",
      "The Silent Patient won the 'Best Mystery & Thriller' category with 68821 votes\n",
      "The Institute won the 'Best Horror' category with 75717 votes\n",
      "The five won the 'Best History & Biography' category with 31783 votes\n",
      "The Testaments won the 'Best Fiction' category with 98291 votes\n"
     ]
    }
   ],
   "source": [
    "book_info = (\n",
    "(\"Best Mystery & Thriller\",\"The Silent Patient\",68821),\n",
    "(\"Best Horror\",\"The Institute\",75717),\n",
    "(\"Best History & Biography\",\"The five\",31783 ),\n",
    "(\"Best Fiction\",\"The Testaments\",98291)\n",
    ")\n",
    "# a,b,c,d = (\n",
    "# (\"Best Mystery & Thriller\",\"The Silent Patient\",68821),\n",
    "# (\"Best Horror\",\"The Institute\",75717),\n",
    "# (\"Best History & Biography\",\"The five\",31783 ),\n",
    "# (\"Best Fiction\",\"The Testaments\",98291)\n",
    "# )\n",
    "# print(a,b,c,d)\n",
    "for i in book_info:\n",
    "    print(i[1],\"won the \"+\"'\"+i[0]+\"'\"+\" category with\",i[2],\"votes\")"
   ]
  },
  {
   "cell_type": "markdown",
   "metadata": {},
   "source": [
    "Task 05\n",
    "\n",
    "Write a python program that takes an input from the user and finds the number of times that the input is present in a given tuple.\n",
    "===================================================================\n",
    "Example 1:\n",
    "Given tuple: (10, 8, 5, 2, 10, 15, 10, 8, 5, 8, 8, 2)\n",
    "Sample Input 1:\n",
    "8\n",
    "Sample Output 1:\n",
    "8 appears 4 times in the tuple\n",
    "===================================================================\n",
    "Example 2\n",
    "Given tuple: (10, 8, 5, 2, 10, 15, 10, 8, 5, 8, 8, 2)\n",
    "Sample Input 2:\n",
    "1\n",
    "Sample Output 2:\n",
    "1 appears 0 times in the tuple\n",
    "===================================================================\n"
   ]
  },
  {
   "cell_type": "code",
   "execution_count": 10,
   "metadata": {},
   "outputs": [
    {
     "name": "stdout",
     "output_type": "stream",
     "text": [
      "1 appears 0 times in the tuple\n"
     ]
    }
   ],
   "source": [
    "given_tuple = (10, 8, 5, 2, 10, 15, 10, 8, 5, 8, 8, 2)\n",
    "\n",
    "user = int(input(\"Enter a number: \"))\n",
    "\n",
    "count = 0\n",
    "for i in given_tuple:\n",
    "    if i == user:\n",
    "        count +=1\n",
    "\n",
    "print(user,\"appears\",count,\"times in the tuple\")"
   ]
  },
  {
   "cell_type": "markdown",
   "metadata": {},
   "source": [
    "Task 06\n",
    "\n",
    "\n",
    "Write a Python program to reverse a given tuple.\n",
    "[You are not allowed to use slicing]\n",
    "===================================================================\n",
    "Note: Unlike lists, tuples are immutable. So, in order to reverse a tuple, we may need to convert it into a list first, then modify the list, and finally convert it back to a tuple.\n",
    "===================================================================\n",
    "Example 1:\n",
    "Given tuple: ('a', 'b', 'c', 'd', 'e', 'f', 'g', 'h')\n",
    "Output:\n",
    "('h', 'g', 'f', 'e', 'd', 'c', 'b', 'a')\n",
    "===================================================================\n",
    "Example 2:\n",
    "Given tuple: (10, 20, 30, 40, 50, 60)\n",
    "Output:\n",
    "(60, 50, 40, 30, 20, 10)\n"
   ]
  },
  {
   "cell_type": "code",
   "execution_count": 4,
   "metadata": {},
   "outputs": [
    {
     "name": "stdout",
     "output_type": "stream",
     "text": [
      "(60, 50, 40, 30, 20, 10)\n"
     ]
    }
   ],
   "source": [
    "given_tuple = (10, 20, 30, 40, 50, 60)\n",
    "\n",
    "myList1 = []\n",
    "for i in given_tuple:\n",
    "    myList1.append(i)\n",
    "\n",
    "myList2 = []\n",
    "for i in range(len(myList1)-1,-1,-1):\n",
    "    myList2.append(myList1[i])\n",
    "print(tuple(myList2))"
   ]
  },
  {
   "cell_type": "markdown",
   "metadata": {},
   "source": [
    "Task 07\n",
    "\n",
    "\n",
    "Suppose you are given two dictionaries.\n",
    "Now create a new dictionary \"marks\", merging the two dictionaries, so that the original two dictionaries remain unchanged.\n",
    "Note: You can use dictionary functions.\n",
    "===================================================================\n",
    "Given:\n",
    "{'Harry':15, 'Draco':8, 'Nevil':19}\n",
    "{'Ginie':18, 'Luna': 14}\n",
    "Output:\n",
    "{'Harry': 15, 'Draco': 8, 'Nevil': 19, 'Ginie': 18, 'Luna': 14}\n",
    "===================================================================\n",
    "Given:\n",
    "{'A':90, 'B': 0}\n",
    "{'C':50}\n",
    "Output:\n",
    "{'A': 90, 'B': 0, 'C': 50}\n",
    "===================================================================\n"
   ]
  },
  {
   "cell_type": "code",
   "execution_count": 5,
   "metadata": {},
   "outputs": [
    {
     "name": "stdout",
     "output_type": "stream",
     "text": [
      "{'A': 90, 'B': 0, 'C': 50}\n"
     ]
    }
   ],
   "source": [
    "myDictionary1 = {'A':90, 'B': 0}\n",
    "myDictionary2 = {'C':50}\n",
    "\n",
    "marks = myDictionary1.copy()\n",
    "marks.update(myDictionary2)\n",
    "print(marks)"
   ]
  },
  {
   "cell_type": "markdown",
   "metadata": {},
   "source": [
    "Task 08\n",
    "\n",
    "\n",
    "Write a Python program that takes a dictionary as an input from the user and then prints the average of all the values in the dictionary.\n",
    "[You are not allowed to use len() and sum()]\n",
    "===================================================================\n",
    "Hint (1): For taking dictionary input\n",
    "Approach (1): For taking dictionary as an input from the user, you may take the whole dictionary as a string using the input() function. Then you can use the split(), strip() functions and conditions to get the keys and values from the string. Finally, you can make the dictionary using the obtained data.\n",
    "Approach (2): If the first approach seems too difficult you can create an empty dictionary and then just run a simple loop. For each iteration ask the user for a key and a value using the input() function and keep updating the dictionary with the key and value.\n",
    "Hint (2): After you have a dictionary, you can use dictionary functions to get all the values from it, run loop to calculate the sum and the total number of values in the dictionary in order to find out the average.\n",
    "===================================================================\n",
    "Sample Input 1:\n",
    "{'Jon': 100, 'Dan': 200, 'Rob':3 00}\n",
    "Sample Output 1:\n",
    "Average is 200.\n",
    "===================================================================\n",
    "Sample Input 2:\n",
    "{'Jon': 100, 'Dan': 200, 'Rob': 30, 'Ned': 110}\n",
    "Sample Output 2:\n",
    "Average is 110.\n",
    "==================================================================="
   ]
  },
  {
   "cell_type": "code",
   "execution_count": 29,
   "metadata": {},
   "outputs": [
    {
     "name": "stdout",
     "output_type": "stream",
     "text": [
      "{'Jon': 100, 'Dan': 200, 'Rob': 300}\n",
      "Average is 200 .\n"
     ]
    }
   ],
   "source": [
    "# Try to solve this problem with no1 process\n",
    "\n",
    "# user = input(\"Enter a string:\")\n",
    "# user = user[1:len(user)-1]\n",
    "# # myDictionary = user.split(\"\")\n",
    "# print(user)\n",
    "# # myList = []\n",
    "# # for i in myDictionary:\n",
    "# #     myList.append(i)\n",
    "# # print(myList)\n",
    "# print(myDictionary)\n",
    "\n",
    "user = int(input(\"Enter the number of items in the dictionary: \"))\n",
    "\n",
    "myDictionary = {}\n",
    "total = 0\n",
    "for i in range(user):\n",
    "    key = input(\"Enter the key of the dictionary: \")\n",
    "    value = int(input(\"Enter the values of the dictionary: \"))\n",
    "    myDictionary[key] = value\n",
    "    total += value\n",
    "\n",
    "print(myDictionary)\n",
    "print(\"Average is\",int(total/user),\".\")\n",
    "\n",
    "\n",
    "# str_dict = input('Enter Dictionary in one line in format: key1:val1, key2:val2...\\n')\n",
    "# dictionary = {}\n",
    "# for pair in str_dict.split(','):\n",
    "# \tdictionary[pair.split(':')[0].strip()] = int(pair.split(':')[1].strip())\n",
    "# s = 0\n",
    "# c = 0\n",
    "# for val in dictionary.values():\n",
    "# \ts += val\n",
    "# \tc += 1\n",
    "# if c != 0:\n",
    "# \tprint('the average of all the values in the dictionary:', s/c)\n",
    "# else:\n",
    "# \tprint('the dictionary is empty')\n"
   ]
  },
  {
   "cell_type": "markdown",
   "metadata": {},
   "source": [
    "Task 09\n",
    "\n",
    "\n",
    "Suppose there is a dictionary named exam_marks as given below.\n",
    "exam_marks = {'Cierra Vega': 175, 'Alden Cantrell': 200, 'Kierra Gentry': 165, 'Pierre Cox': 190}\n",
    "Write a Python program that takes an input from the user and creates a new dictionary with only those elements from 'exam_marks' whose keys have values higher than the user input (inclusive).\n",
    "===================================================================\n",
    "Sample Input 1:\n",
    "170\n",
    "Sample Output 1:\n",
    "{'Cierra Vega': 175, 'Alden Cantrell': 200, 'Pierre Cox': 190}\n",
    "===================================================================\n",
    "Sample Input 2:\n",
    "190\n",
    "Sample Output 2:\n",
    "{'Alden Cantrell': 200, 'Pierre Cox': 190}\n",
    "===================================================================\n"
   ]
  },
  {
   "cell_type": "code",
   "execution_count": 36,
   "metadata": {},
   "outputs": [
    {
     "name": "stdout",
     "output_type": "stream",
     "text": [
      "{'Alden Cantrell': 200, 'Pierre Cox': 190}\n"
     ]
    }
   ],
   "source": [
    "exam_marks = {'Cierra Vega': 175, 'Alden Cantrell': 200, 'Kierra Gentry': 165, 'Pierre Cox': 190}\n",
    "\n",
    "user = int(input(\"Enter a number: \"))\n",
    "\n",
    "newDict = {}\n",
    "for i in exam_marks:\n",
    "    if exam_marks[i] >= user:\n",
    "        newDict[i] = exam_marks[i]\n",
    "\n",
    "print(newDict)"
   ]
  },
  {
   "attachments": {},
   "cell_type": "markdown",
   "metadata": {},
   "source": [
    "Task 10\n",
    "\n",
    "\n",
    "Write a Python program that finds the largest value with its key from a given dictionary.\n",
    "[You are not allowed to use the max() function for this task]\n",
    "Note: You do not need to take the dictionaries as an input from the user but your code should work for any given dictionary. Also, you need to handle the quotation marks as a part of the output.\n",
    "Hint: Think of membership operators (in and not in). You can use dictionary functions to get the values.\n",
    "===================================================================\n",
    "Sample 1:\n",
    "Given:\n",
    "{'sci fi': 12, 'mystery': 15, 'horror': 8, 'mythology': 10, 'young_adult': 4, 'adventure':14}\n",
    "Output:\n",
    "The highest selling book genre is 'mystery' and the number of books sold are 15.\n",
    "===================================================================\n",
    "Sample 2:\n",
    "Given:\n",
    "{'sci fi': 5, 'mystery': 3, 'horror': 14, 'young_adult': 2, 'adventure':9}\n",
    "Output:\n",
    "The highest selling book genre is 'horror' and the number of books sold are 14.\n",
    "==================================================================="
   ]
  },
  {
   "cell_type": "code",
   "execution_count": 41,
   "metadata": {},
   "outputs": [
    {
     "name": "stdout",
     "output_type": "stream",
     "text": [
      "The highest selling book genre is 'horror' and the number of books sold are 14\n"
     ]
    }
   ],
   "source": [
    "givenDict = {'sci fi': 5, 'mystery': 3, 'horror': 14, 'young_adult': 2, 'adventure':9}\n",
    "\n",
    "large = 0\n",
    "item = 0\n",
    "for i in givenDict:\n",
    "    if givenDict[i] > large:\n",
    "        large = givenDict[i]\n",
    "        item = i\n",
    "    else:\n",
    "        large = large\n",
    "        item = item\n",
    "\n",
    "print(\"The highest selling book genre is\",\"'\"+item+\"'\",\"and the number of books sold are\",large)\n"
   ]
  },
  {
   "cell_type": "markdown",
   "metadata": {},
   "source": [
    "Task 11\n",
    "\n",
    "\n",
    "Write a Python program that takes a String as an input from the user and counts the frequency of each character using a dictionary. For solving this problem, you may use each character as a key and its frequency as values. [You are not allowed to use the count() function]\n",
    "Hint: You can create a new dictionary to store the frequencies. You may ignore case for simplicity (i.e. may consider P and p to be the same).\n",
    "===================================================================\n",
    "Sample Input:\n",
    "\"Python programming is fun\"\n",
    "Sample Output:\n",
    "{'p': 2, 'y': 1, 't': 1, 'h': 1, 'o': 2, 'n': 3, 'r': 2, 'g': 2, 'a': 1, 'm': 2, 'i': 2, 's': 1, 'f': 1, 'u': 1}\n",
    "===================================================================\n"
   ]
  },
  {
   "cell_type": "code",
   "execution_count": 2,
   "metadata": {},
   "outputs": [
    {
     "name": "stdout",
     "output_type": "stream",
     "text": [
      "{'p': 2, 'y': 1, 't': 1, 'h': 1, 'o': 2, 'n': 3, 'r': 2, 'g': 2, 'a': 1, 'm': 2, 'i': 2, 's': 1, 'f': 1, 'u': 1}\n"
     ]
    }
   ],
   "source": [
    "user = input(\"Enter a string: \")\n",
    "input1 = user[1:len(user)-1]\n",
    "myDictionary = {}\n",
    "for i in input1:\n",
    "    if i in myDictionary:\n",
    "        myDictionary[i] += 1\n",
    "    elif i == \" \":\n",
    "        pass\n",
    "    else:\n",
    "        myDictionary[i] = 1\n",
    "print(myDictionary)"
   ]
  },
  {
   "cell_type": "markdown",
   "metadata": {},
   "source": [
    "Task 12\n",
    "\n",
    "\n",
    "Suppose you are given the following dictionary where the values are lists.\n",
    "dict_1 = {'A': [1, 2, 3], 'b': ['1', '2'], \"c\": [4, 5, 6, 7]}\n",
    "Write a Python program that counts the total number of items in a dictionary’s values and prints it.\n",
    "[Without using sum(), len(), count() functions]\n",
    "Note: Make changes to the above dictionary and see if your code works properly for other dictionaries as well.\n",
    "===================================================================\n",
    "Output:\n",
    "9\n",
    "===================================================================\n"
   ]
  },
  {
   "cell_type": "code",
   "execution_count": 1,
   "metadata": {},
   "outputs": [
    {
     "name": "stdout",
     "output_type": "stream",
     "text": [
      "9\n"
     ]
    }
   ],
   "source": [
    "dict_1 = {'A': [1, 2, 3], 'b': ['1', '2'], \"c\": [4, 5, 6, 7]}\n",
    "\n",
    "count = 0\n",
    "\n",
    "for i in dict_1:\n",
    "  list = dict_1[i]\n",
    "  for j in list:\n",
    "    count += 1\n",
    "\n",
    "print(count)"
   ]
  },
  {
   "cell_type": "markdown",
   "metadata": {},
   "source": [
    "Task 13\n",
    "\n",
    "\n",
    "Suppose you have been given the following list of tuples.\n",
    "list_1 = [(\"a\", 1), (\"b\", 2), (\"a\", 3), (\"b\", 1), (\"a\", 2), (\"c\", 1)]\n",
    "Write a Python program that converts this list of tuples into a dictionary and then prints the dictionary. The items in each tuple are a key and its value respectively. You need to group the values with the same keys into a list as shown below.\n",
    "[You are not allowed to use set]\n",
    "Hint: Think of membership operators (in and not in).\n",
    "===================================================================\n",
    "Output:\n",
    "{'a': [1, 3, 2], 'b': [2, 1], 'c': [1]}\n",
    "===================================================================\n"
   ]
  },
  {
   "cell_type": "code",
   "execution_count": 1,
   "metadata": {},
   "outputs": [
    {
     "name": "stdout",
     "output_type": "stream",
     "text": [
      "{'a': [1, 3, 2], 'b': [2, 1], 'c': [1]}\n"
     ]
    }
   ],
   "source": [
    "list_1 = [(\"a\", 1), (\"b\", 2), (\"a\", 3), (\"b\", 1), (\"a\", 2), (\"c\", 1)]\n",
    "\n",
    "myDictionary = {}\n",
    "for i,j in list_1:\n",
    "    if i in myDictionary:\n",
    "        myDictionary[i].append(j)\n",
    "    else:\n",
    "        myDictionary[i] = [j]\n",
    "\n",
    "\n",
    "print(myDictionary)"
   ]
  },
  {
   "cell_type": "markdown",
   "metadata": {},
   "source": [
    "Task 14"
   ]
  },
  {
   "cell_type": "code",
   "execution_count": 33,
   "metadata": {},
   "outputs": [
    {
     "name": "stdout",
     "output_type": "stream",
     "text": [
      "3.9989999999999988\n",
      "7.333\n"
     ]
    }
   ],
   "source": [
    "# print(-4+2-(8+118%6)/3)\n",
    "# print(int(-6))\n",
    "# print(-10+3-(6-(-6%8))*3)\n",
    "print(21.999%6)\n",
    "print(7.333%8)"
   ]
  },
  {
   "cell_type": "code",
   "execution_count": 34,
   "metadata": {},
   "outputs": [
    {
     "name": "stdout",
     "output_type": "stream",
     "text": [
      "7\n",
      "21\n"
     ]
    }
   ],
   "source": [
    "print(int(7.333))\n",
    "print(int(21.999))\n"
   ]
  },
  {
   "cell_type": "code",
   "execution_count": 1,
   "metadata": {},
   "outputs": [
    {
     "name": "stdout",
     "output_type": "stream",
     "text": [
      "8\n",
      "a -> 17\n",
      "10\n",
      "b -> 19\n",
      "2\n",
      "c -> 5\n",
      "-7\n",
      "d -> -14\n",
      "2\n",
      "e -> 5\n"
     ]
    }
   ],
   "source": [
    "dict1 = {'a':59 , 'b':-82 , 'c':5 , 'd':-81 , 'e':53}\n",
    "for i in dict1:\n",
    "    j = 0\n",
    "    k = 22\n",
    "    while j < 5:\n",
    "        if j % 2 == 0:\n",
    "            k = dict1[i] + j - (8 + k % 6) / 3\n",
    "            dict1[i] = dict1[i]+ int(k)\n",
    "        else:\n",
    "            k = dict1[i] + j - (6 - k % 8) * 3\n",
    "            dict1[i] = dict1[i] - int(k)\n",
    "        j += 1\n",
    "    print(int(k))\n",
    "    print(i + \" -> \" + str(dict1[i]))\n",
    "\n"
   ]
  },
  {
   "cell_type": "markdown",
   "metadata": {},
   "source": [
    "Task 15\n",
    "\n",
    "\n",
    "Given a list of tuples, your task is to multiply the elements of the tuple and return a list of multiplied elements as shown below.\n",
    "===================================================================\n",
    "Example 1:\n",
    "Given:\n",
    "[(2, 3), (4, 5), (6, 7), (2, 8)]\n",
    "Output:\n",
    "[6, 20, 42, 16]\n",
    "===================================================================\n",
    "Example 2:\n",
    "Given:\n",
    "[(11, 22), (33, 55), (55, 77), (11, 44)]\n",
    "Output:\n",
    "[242, 1815, 4235, 484]\n",
    "===================================================================\n"
   ]
  },
  {
   "cell_type": "code",
   "execution_count": 45,
   "metadata": {},
   "outputs": [
    {
     "name": "stdout",
     "output_type": "stream",
     "text": [
      "[6, 20, 42, 16]\n"
     ]
    }
   ],
   "source": [
    "givenList = [(2, 3), (4, 5), (6, 7), (2, 8)]\n",
    "\n",
    "myList  = []\n",
    "for i,j in givenList:\n",
    "    myList.append(i * j)\n",
    "print(myList)"
   ]
  },
  {
   "cell_type": "markdown",
   "metadata": {},
   "source": [
    "Task 16\n",
    "\n",
    "\n",
    "Assume, you have been given a tuple as below.\n",
    "a_tuple = ( [1, 2, 3], [4, 5, 6], [7, 8, 9], [10, 11, 12])\n",
    "Write a Python program that asks the user for an input (can be any data type) and replaces the last element of each of the inner lists with the user given value.\n",
    "===================================================================\n",
    "Sample Input 1:\n",
    "abc\n",
    "Sample Output 1:\n",
    "([1, 2, 'abc'], [4, 5, 'abc'], [7, 8, 'abc'], [10, 11, 'abc'])\n",
    "===================================================================\n",
    "Sample Input 1:\n",
    "1000\n",
    "Sample Output 1:\n",
    "([1, 2, '1000'], [4, 5, '1000'], [7, 8, '1000'], [10, 11, '1000'])\n"
   ]
  },
  {
   "cell_type": "code",
   "execution_count": 49,
   "metadata": {},
   "outputs": [
    {
     "name": "stdout",
     "output_type": "stream",
     "text": [
      "([1, 2, '1000'], [4, 5, '1000'], [7, 8, '1000'], [10, 11, '1000'])\n"
     ]
    }
   ],
   "source": [
    "a_tuple = ([1, 2, '1000'], [4, 5, '1000'], [7, 8, '1000'], [10, 11, '1000'])\n",
    "\n",
    "user = input(\"Enter something: \")\n",
    "\n",
    "myList = []\n",
    "for list in a_tuple:\n",
    "    newList = list[:len(list)-1] + [user]\n",
    "    myList.append(newList)\n",
    "print(tuple(myList))"
   ]
  },
  {
   "cell_type": "markdown",
   "metadata": {},
   "source": [
    "Task 17\n",
    "\n",
    "\n",
    "Suppose there is a dictionary named my_dictionary.\n",
    "my_dictionary = {'c1':'Red', 'c2':'Green', 'c3':None, 'd4':'Blue', 'a5':None}.\n",
    "Now write a Python program to remove empty items from the dictionary. [Empty items means keys without any values (None)].\n",
    "===================================================================\n",
    "Output:\n",
    "{'c1':'Red', 'c2':'Green', 'd4':'Blue'}\n",
    "===================================================================\n"
   ]
  },
  {
   "cell_type": "code",
   "execution_count": 51,
   "metadata": {},
   "outputs": [
    {
     "name": "stdout",
     "output_type": "stream",
     "text": [
      "{'c1': 'Red', 'c2': 'Green', 'd4': 'Blue'}\n"
     ]
    }
   ],
   "source": [
    "my_dictionary = {'c1':'Red', 'c2':'Green', 'c3':None, 'd4':'Blue', 'a5':None}\n",
    "\n",
    "myDictionary = {}\n",
    "for val in my_dictionary:\n",
    "    if my_dictionary[val] != None:\n",
    "        myDictionary[val] = my_dictionary[val]\n",
    "\n",
    "print(myDictionary)\n"
   ]
  },
  {
   "cell_type": "markdown",
   "metadata": {},
   "source": [
    "Task 18\n",
    "\n",
    "\n",
    "Suppose you are given a dictionary as shown below. Write a Python program that takes two inputs from the user representing the lower (inclusive) and upper (exclusive) of a range of values. Your task is to extract all the items from the dictionary whose values lie in the range given as input by the user.\n",
    "dict_1 = {'a' : 6, 'b' : 7, 'c' : 9, 'd' : 8, 'e' : 11, 'f' : 12, 'g' : 13}\n",
    "===================================================================\n",
    "Sample Input 1:\n",
    "9, 12\n",
    "Sample Output 1:\n",
    "{'c': 9, 'e': 11}\n",
    "Explanation: Keys with values within the range of 9 and 11 are extracted.\n",
    "===================================================================\n",
    "Sample Input 2:\n",
    "14, 18\n",
    "Sample Output 2:\n",
    "{}\n",
    "Explanation: No values in range.\n",
    "===================================================================\n"
   ]
  },
  {
   "cell_type": "code",
   "execution_count": null,
   "metadata": {},
   "outputs": [],
   "source": []
  },
  {
   "cell_type": "markdown",
   "metadata": {},
   "source": [
    "Task 19\n",
    "\n",
    "\n",
    "Given a list of tuples, your task is to group the tuples based on the second element in the tuples as shown in the examples below. We can achieve this using dictionary by checking the second element in each tuple.\n",
    "[You do not need to take tuple as input and can assume that it is given as below]\n",
    "===================================================================\n",
    "Example 1:\n",
    "Given:\n",
    "[(20, 80), (31, 80), (1, 22), (88, 11), (27, 11)]\n",
    "Output:\n",
    "{80: [(20, 80), (31, 80)],\n",
    "11: [(88, 11), (27, 11)],\n",
    "22: [(1, 22)]}\n",
    "===================================================================\n",
    "Example 2:\n",
    "Given:\n",
    "[(20, 'Sad'), (31, 'Sad'), (88, 'NotSad'), (27, 'NotSad')]\n",
    "Output:\n",
    "{'NotSad': [(88, 'NotSad'), (27, 'NotSad')],\n",
    "'Sad: [(20, 'Sad'), (31, 'Sad')]}\n",
    "===================================================================\n"
   ]
  },
  {
   "cell_type": "code",
   "execution_count": null,
   "metadata": {},
   "outputs": [],
   "source": []
  },
  {
   "cell_type": "markdown",
   "metadata": {},
   "source": [
    "Task 20\n",
    "Write a python program that takes 2 inputs from the user.\n",
    "Input1: A string containing a single sentence or multiple sentences. Multiple sentences are separated by full stops.\n",
    "Input2: A list containing special characters.\n",
    "After taking the inputs, your task is to create a dictionary where the keys will be the corresponding special characters from the given list and the values will be the words in the given sentence.\n",
    "You need to find out which key belongs to which value. To do that, you should calculate the index number using the formula given below. The calculated index is the corresponding key of the word. Make sure no duplicate values are inserted.\n",
    "\n",
    "\n",
    "The formula: \n",
    "Index value of special character list = (ASCII sum of the word) % (length of special character list)\n",
    "========================================================================\n",
    "Sample Input 1:\n",
    "'I love Programming. Python is love.'\n",
    "['@', '$', '&', '#']\n",
    "Sample Output 1: \n",
    "Words in the given String: ['I', 'love', 'Programming', 'Python', 'is', 'love']\n",
    "Answer: {'$': ['I'], '&': ['love', 'Python'], '#': ['Programming'], '@': ['is']}\n",
    "Explanation 1: \n",
    "From the string 'I love Programming. Python is love.' the {key: value} pair is calculated accordingly:(check main doc of this assigment)\n",
    "\n",
    "The calculation is shown in the given table. Full stops after ‘Programming.’ and ‘love.’ are avoided. Also, the last word ‘love’ is a duplicate, and therefore, it was not inserted again as a value.\n",
    "========================================================================\n",
    "Sample Input 2:\n",
    "'The secret of getting ahead is getting started.'\n",
    "['-', '=', '+', '*', '%']\n",
    "Sample Output 2: \n",
    "Words in the given String: ['The', 'secret', 'of', 'getting', 'ahead', 'is', 'getting', 'started']\n",
    "Answer: {'%': ['The', 'getting', 'ahead', 'started'], '=': ['secret'], '*': ['of'], '-': ['is']}\n",
    "Explanation 2: \n",
    "From the string 'The secret of getting ahead is getting started.' the {key: value} pair is calculated accordingly:(check main doc of this assigment)\n",
    "\n",
    "The calculation is shown in the given table. Full stop after ‘started.’ is avoided. Also, the word ‘getting’ is a duplicate and therefore it was not inserted again as a value.\n",
    "========================================================================\n"
   ]
  },
  {
   "cell_type": "code",
   "execution_count": null,
   "metadata": {},
   "outputs": [],
   "source": []
  }
 ],
 "metadata": {
  "kernelspec": {
   "display_name": "Python 3.10.7 64-bit",
   "language": "python",
   "name": "python3"
  },
  "language_info": {
   "codemirror_mode": {
    "name": "ipython",
    "version": 3
   },
   "file_extension": ".py",
   "mimetype": "text/x-python",
   "name": "python",
   "nbconvert_exporter": "python",
   "pygments_lexer": "ipython3",
   "version": "3.10.7 (tags/v3.10.7:6cc6b13, Sep  5 2022, 14:08:36) [MSC v.1933 64 bit (AMD64)]"
  },
  "orig_nbformat": 4,
  "vscode": {
   "interpreter": {
    "hash": "45446571a1dd78e2e32e7d307011dd88be5012a536fa99b069f150ccdbbf577b"
   }
  }
 },
 "nbformat": 4,
 "nbformat_minor": 2
}
