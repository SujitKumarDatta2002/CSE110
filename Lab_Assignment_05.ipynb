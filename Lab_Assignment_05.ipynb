{
 "cells": [
  {
   "cell_type": "markdown",
   "metadata": {},
   "source": [
    "Task 01"
   ]
  },
  {
   "cell_type": "code",
   "execution_count": 1,
   "metadata": {},
   "outputs": [
    {
     "name": "stdout",
     "output_type": "stream",
     "text": [
      "Numbers in the list: [1]\n",
      "Numbers in the list: [1, 2]\n",
      "Numbers in the list: [1, 2, 3]\n",
      "Numbers in the list: [1, 2, 3, 4]\n",
      "Numbers in the list: [1, 2, 3, 4, 5]\n"
     ]
    }
   ],
   "source": [
    "myList = []\n",
    "for i in range(0,5):\n",
    "  user = int(input(\"Enter your number: \"))\n",
    "  myList.append(user)\n",
    "  print(\"Numbers in the list:\", myList)"
   ]
  },
  {
   "cell_type": "markdown",
   "metadata": {},
   "source": [
    "Task 02"
   ]
  },
  {
   "cell_type": "code",
   "execution_count": 5,
   "metadata": {},
   "outputs": [
    {
     "name": "stdout",
     "output_type": "stream",
     "text": [
      "Not possible\n"
     ]
    }
   ],
   "source": [
    "\n",
    "# myList = []\n",
    "# n = int(input(\"Enter number of elements : \"))\n",
    "# for i in range(0,n):\n",
    "#   user = int(input(\"Enter your number: \"))\n",
    "#   myList.append(user)\n",
    "\n",
    "# if len(myList) < 4 :\n",
    "#   print(\"Not possible\")\n",
    "# else:\n",
    "#   print(myList[2:len(myList)-2])\n",
    "\n",
    "\n",
    "# Method 2\n",
    "user = input(\"Enter your elements of the list: \").split(\",\")\n",
    "\n",
    "myList = []\n",
    "for i in user:\n",
    "  myList.append(int(i))\n",
    "\n",
    "if len(myList) < 4 :\n",
    "  print(\"Not possible\")\n",
    "else:\n",
    "  print(myList[2:len(myList)-2])"
   ]
  },
  {
   "cell_type": "markdown",
   "metadata": {},
   "source": [
    "Task 03"
   ]
  },
  {
   "cell_type": "code",
   "execution_count": 1,
   "metadata": {},
   "outputs": [
    {
     "name": "stdout",
     "output_type": "stream",
     "text": [
      "Printing values from the list in reverse order: \n",
      "0\n",
      "1\n",
      "100\n",
      "-5\n",
      "5\n"
     ]
    }
   ],
   "source": [
    "myList = []\n",
    "for i in range(0,5):\n",
    "  user = int(input(\"Enter your number: \"))\n",
    "  myList.append(user)\n",
    "print(\"Printing values from the list in reverse order: \")\n",
    "myList2 = myList[4::-1]\n",
    "for i in myList2:\n",
    "  print(i)"
   ]
  },
  {
   "cell_type": "markdown",
   "metadata": {},
   "source": [
    "Task 04"
   ]
  },
  {
   "cell_type": "code",
   "execution_count": 1,
   "metadata": {},
   "outputs": [
    {
     "name": "stdout",
     "output_type": "stream",
     "text": [
      "[1, 4, 9, 16, 25, 36, 49]\n"
     ]
    }
   ],
   "source": [
    "# Method 1\n",
    "# numElements = int(input(\"Enter the number of elements: \"))\n",
    "# myList = []\n",
    "# for i in range(0,numElements):\n",
    "#   user1 = int(input(\"Enter your number: \"))\n",
    "#   user2 = user1 ** 2\n",
    "#   myList.append(user2)\n",
    "# print(myList)\n",
    "\n",
    "# Method 2\n",
    "user = input(\"Enter the elements of the  list: \").split(\",\")\n",
    "\n",
    "myList = []\n",
    "for i in user:\n",
    "  myList.append(int(i) ** 2)\n",
    "print(myList)"
   ]
  },
  {
   "cell_type": "markdown",
   "metadata": {},
   "source": [
    "Task 05"
   ]
  },
  {
   "cell_type": "code",
   "execution_count": 9,
   "metadata": {},
   "outputs": [
    {
     "name": "stdout",
     "output_type": "stream",
     "text": [
      "Original List: ['hey', 'there', '', \"what's\", '', 'up', '', '?']\n",
      "Unexpected exception formatting exception. Falling back to standard exception\n"
     ]
    },
    {
     "name": "stderr",
     "output_type": "stream",
     "text": [
      "Traceback (most recent call last):\n",
      "  File \"C:\\Users\\SUJIT KUMAR\\AppData\\Roaming\\Python\\Python310\\site-packages\\IPython\\core\\interactiveshell.py\", line 3433, in run_code\n",
      "    exec(code_obj, self.user_global_ns, self.user_ns)\n",
      "  File \"C:\\Users\\SUJIT KUMAR\\AppData\\Local\\Temp\\ipykernel_19632\\1409773404.py\", line -1, in <module>\n",
      "KeyboardInterrupt\n",
      "\n",
      "During handling of the above exception, another exception occurred:\n",
      "\n",
      "Traceback (most recent call last):\n",
      "  File \"C:\\Users\\SUJIT KUMAR\\AppData\\Roaming\\Python\\Python310\\site-packages\\IPython\\core\\interactiveshell.py\", line 2052, in showtraceback\n",
      "    stb = self.InteractiveTB.structured_traceback(\n",
      "  File \"C:\\Users\\SUJIT KUMAR\\AppData\\Roaming\\Python\\Python310\\site-packages\\IPython\\core\\ultratb.py\", line 1112, in structured_traceback\n",
      "    return FormattedTB.structured_traceback(\n",
      "  File \"C:\\Users\\SUJIT KUMAR\\AppData\\Roaming\\Python\\Python310\\site-packages\\IPython\\core\\ultratb.py\", line 1006, in structured_traceback\n",
      "    return VerboseTB.structured_traceback(\n",
      "  File \"C:\\Users\\SUJIT KUMAR\\AppData\\Roaming\\Python\\Python310\\site-packages\\IPython\\core\\ultratb.py\", line 859, in structured_traceback\n",
      "    formatted_exception = self.format_exception_as_a_whole(etype, evalue, etb, number_of_lines_of_context,\n",
      "  File \"C:\\Users\\SUJIT KUMAR\\AppData\\Roaming\\Python\\Python310\\site-packages\\IPython\\core\\ultratb.py\", line 812, in format_exception_as_a_whole\n",
      "    frames.append(self.format_record(r))\n",
      "  File \"C:\\Users\\SUJIT KUMAR\\AppData\\Roaming\\Python\\Python310\\site-packages\\IPython\\core\\ultratb.py\", line 730, in format_record\n",
      "    result += ''.join(_format_traceback_lines(frame_info.lines, Colors, self.has_colors, lvals))\n",
      "  File \"C:\\Users\\SUJIT KUMAR\\AppData\\Roaming\\Python\\Python310\\site-packages\\stack_data\\utils.py\", line 144, in cached_property_wrapper\n",
      "    value = obj.__dict__[self.func.__name__] = self.func(obj)\n",
      "  File \"C:\\Users\\SUJIT KUMAR\\AppData\\Roaming\\Python\\Python310\\site-packages\\stack_data\\core.py\", line 720, in lines\n",
      "    pieces = self.included_pieces\n",
      "  File \"C:\\Users\\SUJIT KUMAR\\AppData\\Roaming\\Python\\Python310\\site-packages\\stack_data\\utils.py\", line 144, in cached_property_wrapper\n",
      "    value = obj.__dict__[self.func.__name__] = self.func(obj)\n",
      "  File \"C:\\Users\\SUJIT KUMAR\\AppData\\Roaming\\Python\\Python310\\site-packages\\stack_data\\core.py\", line 667, in included_pieces\n",
      "    pos = scope_pieces.index(self.executing_piece)\n",
      "  File \"C:\\Users\\SUJIT KUMAR\\AppData\\Roaming\\Python\\Python310\\site-packages\\stack_data\\utils.py\", line 144, in cached_property_wrapper\n",
      "    value = obj.__dict__[self.func.__name__] = self.func(obj)\n",
      "  File \"C:\\Users\\SUJIT KUMAR\\AppData\\Roaming\\Python\\Python310\\site-packages\\stack_data\\core.py\", line 646, in executing_piece\n",
      "    return only(\n",
      "  File \"C:\\Users\\SUJIT KUMAR\\AppData\\Roaming\\Python\\Python310\\site-packages\\executing\\executing.py\", line 190, in only\n",
      "    raise NotOneValueFound('Expected one value, found 0')\n",
      "executing.executing.NotOneValueFound: Expected one value, found 0\n"
     ]
    }
   ],
   "source": [
    "# Method 01\n",
    "# numElements = int(input(\"Enter the number of elements: \"))\n",
    "# myList = []\n",
    "# for i in range(0,numElements):\n",
    "#   user = input(\"Enter your string: \")\n",
    "#   myList.append(user)\n",
    "# print(\"Original List:\",myList)\n",
    "# myList = [i for i in myList if i]\n",
    "# print(\"Modofied List:\",myList)\n",
    "\n",
    "# Method 2\n",
    "numElements = int(input(\"Enter the number of elements: \"))\n",
    "myList = []\n",
    "for i in range(0,numElements):\n",
    "  user = input(\"Enter your string: \")\n",
    "  myList.append(user)\n",
    "print(\"Original List:\",myList)\n",
    "for i in myList:\n",
    "  if i != \"\":\n",
    "    myList.append(i)\n",
    "print(\"Modofied List:\",myList)\n",
    "\n",
    "\n",
    "# Method 3\n",
    "# givenList = [\"hey\", \"there\", \"\", \"what's\", \"\", \"up\", \"\", \"?\"]\n",
    "\n",
    "\n",
    "# print(\"Original list:\",givenList)\n",
    "\n",
    "# myList = []\n",
    "# for i in givenList:\n",
    "#   if i != \"\":\n",
    "#     myList.append(i)\n",
    "# print(\"Modified list:\",myList)"
   ]
  },
  {
   "cell_type": "markdown",
   "metadata": {},
   "source": [
    "Task 06"
   ]
  },
  {
   "cell_type": "code",
   "execution_count": 14,
   "metadata": {},
   "outputs": [
    {
     "name": "stdout",
     "output_type": "stream",
     "text": [
      "My List: [7, 13, 2, 10, 6, -11, 0]\n",
      "Largest number in the list is 13 which was found at index 1\n"
     ]
    }
   ],
   "source": [
    "user = input(\"Enter your string: \").split(\",\")\n",
    "\n",
    "myList = []\n",
    "for i in user:\n",
    "    myList.append(int(i))\n",
    "print(\"My List:\",myList)\n",
    "\n",
    "large = 0\n",
    "index = 0\n",
    "\n",
    "for i in range(len(myList)):\n",
    "    if myList[i] > large:\n",
    "        large = myList[i]\n",
    "        index = i\n",
    "        \n",
    "\n",
    "    else:\n",
    "        large = large\n",
    "        index = index\n",
    "    \n",
    "print(\"Largest number in the list is\",large,\"which was found at index\",index)"
   ]
  },
  {
   "cell_type": "markdown",
   "metadata": {},
   "source": [
    "Task 07\n",
    "\n",
    "Suppose you have been given two lists. Write a Python program that replaces the last element of the first list with the second list. [Your program should work for any two given lists; make changes to the lists below and check whether your program works correctly]\n",
    "===================================================================\n",
    "Sample given lists 1:\n",
    "List_one : [1, 4, 7, 5]\n",
    "List_two : [6, 1, 3, 9]\n",
    "Sample Output 1:\n",
    "[1, 4, 7, 6, 1, 3, 9]\n",
    "===================================================================\n",
    "Sample given lists 2:\n",
    "List_one : [1, 3, 5, 7, 9, 10]\n",
    "List_two : [2, 4, 6, 8]\n",
    "Sample Output 2:\n",
    "[1, 3, 5, 7, 9, 2, 4, 6, 8]"
   ]
  },
  {
   "cell_type": "code",
   "execution_count": 4,
   "metadata": {},
   "outputs": [
    {
     "name": "stdout",
     "output_type": "stream",
     "text": [
      "[1, 3, 5, 7, 9, 2, 4, 6, 8]\n"
     ]
    }
   ],
   "source": [
    "List_one = [1, 3, 5, 7, 9, 10]\n",
    "List_two = [2, 4, 6, 8]\n",
    "\n",
    "\n",
    "myList = []\n",
    "for i in range(len(List_one)-1):\n",
    "    myList.append(List_one[i])\n",
    "for i in List_two:\n",
    "    myList.append(i)\n",
    "print(myList)"
   ]
  },
  {
   "cell_type": "markdown",
   "metadata": {},
   "source": [
    "Task 08"
   ]
  },
  {
   "cell_type": "code",
   "execution_count": 19,
   "metadata": {},
   "outputs": [
    {
     "name": "stdout",
     "output_type": "stream",
     "text": [
      "[2, 4, 6, 8, 10, 12, -14, -16]\n"
     ]
    }
   ],
   "source": [
    "list_one = input(\"Enter first list: \").split(\",\")\n",
    "list_two = input(\"Enter second list: \").split(\",\")\n",
    "\n",
    "myList1 = []\n",
    "myList2 = []\n",
    "\n",
    "for i in list_one:\n",
    "    myList1.append(int(i))\n",
    "\n",
    "for i in list_two:\n",
    "    myList2.append(int(i))\n",
    "\n",
    "myList3 = []\n",
    "for i in myList1:\n",
    "    if i % 2 == 0:\n",
    "        myList3.append(i)\n",
    "\n",
    "myList4 = []\n",
    "for i in myList2:\n",
    "    if i % 2 == 0:\n",
    "        myList4.append(i)\n",
    "\n",
    "print(myList3 + myList4)\n"
   ]
  },
  {
   "cell_type": "markdown",
   "metadata": {},
   "source": [
    "Task 09"
   ]
  },
  {
   "cell_type": "code",
   "execution_count": 25,
   "metadata": {},
   "outputs": [
    {
     "name": "stdout",
     "output_type": "stream",
     "text": [
      "Original list: [7, 12, 4, 55, 96, 2, 11, 61, 33, 42]\n",
      "Modified list: [7, 55, 11, 61, 33]\n"
     ]
    }
   ],
   "source": [
    "user = input(\"Enter first list: \")\n",
    "user += \" \"\n",
    "\n",
    "myList1 = []\n",
    "number = \"\"\n",
    "for i in user:\n",
    "    if i == \" \":\n",
    "        myList1.append(int(number))\n",
    "        number = \"\"\n",
    "    else:\n",
    "        number += i\n",
    "print(\"Original list:\",myList1)\n",
    "\n",
    "myList2 = []\n",
    "for i in myList1:\n",
    "    if i % 2 != 0:\n",
    "        myList2.append(i)\n",
    "print(\"Modified list:\",myList2)"
   ]
  },
  {
   "cell_type": "markdown",
   "metadata": {},
   "source": [
    "Task 10"
   ]
  },
  {
   "cell_type": "code",
   "execution_count": 27,
   "metadata": {},
   "outputs": [
    {
     "name": "stdout",
     "output_type": "stream",
     "text": [
      "Input list: [0, 0, 1, 2, 3, 4, 4, 5, 6, 6, 6, 7, 8, 9, 4, 4]\n",
      "Modified list: [0, 1, 2, 3, 4, 5, 6, 7, 8, 9]\n"
     ]
    }
   ],
   "source": [
    "user = input(\"Enter first list: \")\n",
    "user += \",\"\n",
    "\n",
    "myList1 = []\n",
    "number = \"\"\n",
    "for i in user:\n",
    "    if i == \",\":\n",
    "        myList1.append(int(number))\n",
    "        number = \"\"\n",
    "    else:\n",
    "        number += i\n",
    "print(\"Input list:\",myList1)\n",
    "\n",
    "myList2 = []\n",
    "for i in myList1:\n",
    "    if i not in myList2:\n",
    "        myList2.append(i)\n",
    "print(\"Modified list:\",myList2)"
   ]
  },
  {
   "cell_type": "markdown",
   "metadata": {},
   "source": [
    "Task 11"
   ]
  },
  {
   "cell_type": "code",
   "execution_count": 23,
   "metadata": {},
   "outputs": [
    {
     "name": "stdout",
     "output_type": "stream",
     "text": [
      "True\n"
     ]
    }
   ],
   "source": [
    "List_one = input(\"Enter first list: \").split(\",\")\n",
    "List_two = input(\"Enter second list: \").split(\",\")\n",
    "\n",
    "myList1 = []\n",
    "for i in List_one:\n",
    "  myList1.append(int(i))\n",
    "\n",
    "myList2 = []\n",
    "for i in List_two:\n",
    "  myList2.append(int(i))\n",
    "\n",
    "for i in myList1:\n",
    "  for j in myList2:\n",
    "    if i == j:\n",
    "      found = True\n",
    "      break\n",
    "    else:\n",
    "      found = False\n",
    "print(found)"
   ]
  },
  {
   "cell_type": "markdown",
   "metadata": {},
   "source": [
    "Task 12"
   ]
  },
  {
   "cell_type": "code",
   "execution_count": 1,
   "metadata": {},
   "outputs": [
    {
     "name": "stdout",
     "output_type": "stream",
     "text": [
      "5\n",
      "9\n",
      "15\n",
      "25\n",
      "43\n",
      "77\n",
      "143\n",
      "273\n",
      "531\n"
     ]
    }
   ],
   "source": [
    "myList = [0, 0, 0, 0, 0, 0, 0, 0, 0, 0]\n",
    "index1 = 0\n",
    "index2 = 0\n",
    "index1 = 1\n",
    "while(index1<10):\n",
    "  myList[index1] = index1+4\n",
    "  index2 = 1\n",
    "  while(index2<index1):\n",
    "      myList[index1] = myList[index1] + myList[index2]-index1\n",
    "      index2 = index2+1\n",
    "  print(myList[index1])\n",
    "  index1 = index1+1\n",
    "\n"
   ]
  },
  {
   "cell_type": "markdown",
   "metadata": {},
   "source": [
    "Task 13"
   ]
  },
  {
   "cell_type": "code",
   "execution_count": 10,
   "metadata": {},
   "outputs": [
    {
     "name": "stdout",
     "output_type": "stream",
     "text": [
      "5\n",
      "3\n",
      "-5\n",
      "-12\n",
      "-12\n",
      "-6\n",
      "-1\n",
      "-3\n",
      "-11\n",
      "[0, 5, 3, -5, -12, -12, -6, -1, -3, -11]\n"
     ]
    }
   ],
   "source": [
    "myList = [0, 0, 0, 0, 0, 0, 0, 0, 0, 0]\n",
    "index1 = 0\n",
    "index2 = 0\n",
    "index1 = 1\n",
    "while (index1 < 10):\n",
    "  myList[index1] = index1 + 4\n",
    "  index2 = 1\n",
    "  while (index2 < index1):\n",
    "    myList[index1] = myList[index1-1] - myList[index2-1] - index1\n",
    "    index2 = index2 + 1\n",
    "  print(myList[index1])\n",
    "  index1 = index1 + 1\n",
    "print(myList)\n",
    "\n"
   ]
  },
  {
   "cell_type": "markdown",
   "metadata": {},
   "source": [
    "Task 14"
   ]
  },
  {
   "cell_type": "code",
   "execution_count": 11,
   "metadata": {},
   "outputs": [
    {
     "name": "stdout",
     "output_type": "stream",
     "text": [
      "3\n",
      "5\n",
      "7\n",
      "9\n",
      "11\n",
      "13\n",
      "15\n",
      "17\n",
      "19\n",
      "[0, 3, 5, 7, 9, 11, 13, 15, 17, 19]\n"
     ]
    }
   ],
   "source": [
    "\n",
    "myList = [0, 0, 0, 0, 0, 0, 0, 0, 0, 0]\n",
    "b = []\n",
    "index1 = 0\n",
    "index2 = 0\n",
    "index1 = 1\n",
    "b = myList\n",
    "while(index1<10):\n",
    "  myList[index1] = index1+2\n",
    "  index2 = 1\n",
    "  while(index2<index1):\n",
    "    myList[index1] = b[index1]+myList[index2]-index1\n",
    "    index2 = index2+1\n",
    "  print(myList[index1])\n",
    "  index1 = index1+1\n",
    "\n",
    "print(myList)\n",
    "\n"
   ]
  },
  {
   "cell_type": "markdown",
   "metadata": {},
   "source": [
    "Task 15"
   ]
  },
  {
   "cell_type": "code",
   "execution_count": 12,
   "metadata": {},
   "outputs": [
    {
     "name": "stdout",
     "output_type": "stream",
     "text": [
      "2\n",
      "0\n",
      "-1\n",
      "-5\n",
      "-11\n",
      "-22\n",
      "-40\n",
      "-70\n",
      "-119\n",
      "[0, 2, 0, -1, -5, -11, -22, -40, -70, -119]\n"
     ]
    }
   ],
   "source": [
    "\n",
    "myList = [0, 0, 0, 0, 0, 0, 0, 0, 0, 0]\n",
    "b = []\n",
    "index1 = 0\n",
    "index2 = 0\n",
    "index1 = 1\n",
    "b = myList\n",
    "while (index1 < 10):\n",
    "  myList[index1] = index1 + 1\n",
    "  index2 = 1\n",
    "  while (index2 < index1):\n",
    "    myList[index1] = b[index2-1] + myList[index2] - index1\n",
    "    index2 = index2 + 1\n",
    "  print(myList[index1])\n",
    "  index1 = index1 + 1\n",
    "\n",
    "print(myList)\n",
    "\n"
   ]
  },
  {
   "cell_type": "markdown",
   "metadata": {},
   "source": [
    "Task 16"
   ]
  },
  {
   "cell_type": "code",
   "execution_count": 8,
   "metadata": {},
   "outputs": [
    {
     "name": "stdout",
     "output_type": "stream",
     "text": [
      "My List: [7, 13, 2, 10, 6, -11, 0]\n",
      "Largest number in the list is 10 which was found at index 3\n"
     ]
    }
   ],
   "source": [
    "user = input(\"Enter your string: \").split(\",\")\n",
    "\n",
    "myList = []\n",
    "for i in user:\n",
    "    myList.append(int(i))\n",
    "print(\"My List:\",myList)\n",
    "\n",
    "firstLarge = 0\n",
    "firstIndex = 0\n",
    "for i in range(len(myList)):\n",
    "    if myList[i] > firstLarge:\n",
    "        firstLarge = myList[i]\n",
    "        firstIndex = i\n",
    "    else:\n",
    "        firstLarge = firstLarge\n",
    "        firstIndex = firstIndex\n",
    "\n",
    "myList2 = []\n",
    "for i in myList:\n",
    "    if i != firstLarge:\n",
    "        myList2.append(i)\n",
    "    else:\n",
    "        pass\n",
    "\n",
    "secondLarge = 0\n",
    "secondIndex = 0\n",
    "for i in range(len(myList2)):\n",
    "    if myList2[i] > secondLarge:\n",
    "        secondLarge = myList2[i]\n",
    "    else:\n",
    "        secondLarge = secondLarge\n",
    "\n",
    "for i in range(len(myList)):\n",
    "    if myList[i] == secondLarge:\n",
    "        secondIndex = i\n",
    "    else:\n",
    "        secondIndex = secondIndex\n",
    "\n",
    "print(\"Largest number in the list is\",secondLarge,\"which was found at index\",secondIndex)"
   ]
  },
  {
   "cell_type": "markdown",
   "metadata": {},
   "source": [
    "Task 17"
   ]
  },
  {
   "cell_type": "code",
   "execution_count": 10,
   "metadata": {},
   "outputs": [
    {
     "name": "stdout",
     "output_type": "stream",
     "text": [
      "My List: [7, 13, -5, 10, 6]\n",
      "[7, 13, -5, 10, 6]\n",
      "Smallest number in the list is -5 which was found at index 2\n",
      "Largest number in the list is 13 which was found at index 1\n"
     ]
    }
   ],
   "source": [
    "user = input(\"Enter your string: \").split(\",\")\n",
    "\n",
    "myList = []\n",
    "for i in user:\n",
    "    myList.append(int(i))\n",
    "print(\"My List:\",myList)\n",
    "\n",
    "large = myList[0]\n",
    "small = myList[0]\n",
    "largeIndex = 0\n",
    "smallIndex = 0\n",
    "for i in range(len(myList)):\n",
    "    if myList[i] > large:\n",
    "        large = myList[i]\n",
    "        largeIndex = i\n",
    "    else:\n",
    "        large = large\n",
    "        index = index\n",
    "    if myList[i] < small:\n",
    "        small = myList[i]\n",
    "        smallIndex = i\n",
    "    else:\n",
    "        small = small\n",
    "        smallIndex = smallIndex\n",
    "\n",
    "print(myList)\n",
    "print(\"Smallest number in the list is\",small,\"which was found at index\",smallIndex)\n",
    "print(\"Largest number in the list is\",large,\"which was found at index\",largeIndex)"
   ]
  },
  {
   "cell_type": "markdown",
   "metadata": {},
   "source": [
    "Task 18"
   ]
  },
  {
   "cell_type": "code",
   "execution_count": 2,
   "metadata": {},
   "outputs": [
    {
     "name": "stdout",
     "output_type": "stream",
     "text": [
      "['A', 'B', 'C', 'D']\n",
      "['C', 'E', 'F', 'B']\n",
      "['B', 'C']\n"
     ]
    }
   ],
   "source": [
    "list_one = input(\"Enter the first list: \").split(\", \")\n",
    "list_two = input(\"Enter the second list: \").split(\", \")\n",
    "print(list_one)\n",
    "print(list_two)\n",
    "\n",
    "myList = []\n",
    "for i in list_one:\n",
    "  for j in list_two:\n",
    "        if i == j:\n",
    "            myList.append(j)\n",
    "        \n",
    "print(myList)"
   ]
  },
  {
   "cell_type": "markdown",
   "metadata": {},
   "source": [
    "Task 19"
   ]
  },
  {
   "cell_type": "code",
   "execution_count": null,
   "metadata": {},
   "outputs": [],
   "source": []
  },
  {
   "cell_type": "markdown",
   "metadata": {},
   "source": [
    "Task 20"
   ]
  },
  {
   "cell_type": "code",
   "execution_count": 32,
   "metadata": {},
   "outputs": [
    {
     "name": "stdout",
     "output_type": "stream",
     "text": [
      "Original data:       [1,   2   ,         3,   50,   4]         \n",
      "After removing square brackets:       [1,   2   ,         3,   50,   4]         \n",
      "Numbers in string format with extra white spaces: ['      [1,   2   ,         3,   50,   4]         ']\n",
      "Final data(numbers in list format): ['[1', '   2   ', '         3', '   50', '   4]']\n"
     ]
    }
   ],
   "source": [
    "# Not solved yet.........\n",
    "\n",
    "\n",
    "user = input(\"Enter your string: \").strip(\"'\"'\"\"')\n",
    "list = user.split(\",[]\")\n",
    "revbrac = user.strip(\"'[]\")\n",
    "finalData = user.strip(\" \")\n",
    "inListFormat = finalData.split(\",\")\n",
    "\n",
    "\n",
    "print(\"Original data:\",user)\n",
    "print(\"After removing square brackets:\",revbrac)\n",
    "print(\"Numbers in string format with extra white spaces:\",list)\n",
    "print(\"Final data(numbers in list format):\",inListFormat)"
   ]
  },
  {
   "cell_type": "markdown",
   "metadata": {},
   "source": [
    "Task 21"
   ]
  },
  {
   "cell_type": "code",
   "execution_count": null,
   "metadata": {},
   "outputs": [],
   "source": []
  }
 ],
 "metadata": {
  "kernelspec": {
   "display_name": "Python 3.10.7 64-bit",
   "language": "python",
   "name": "python3"
  },
  "language_info": {
   "codemirror_mode": {
    "name": "ipython",
    "version": 3
   },
   "file_extension": ".py",
   "mimetype": "text/x-python",
   "name": "python",
   "nbconvert_exporter": "python",
   "pygments_lexer": "ipython3",
   "version": "3.10.7"
  },
  "orig_nbformat": 4,
  "vscode": {
   "interpreter": {
    "hash": "45446571a1dd78e2e32e7d307011dd88be5012a536fa99b069f150ccdbbf577b"
   }
  }
 },
 "nbformat": 4,
 "nbformat_minor": 2
}
