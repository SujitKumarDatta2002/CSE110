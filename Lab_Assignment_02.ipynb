{
  "nbformat": 4,
  "nbformat_minor": 0,
  "metadata": {
    "colab": {
      "provenance": []
    },
    "kernelspec": {
      "name": "python3",
      "display_name": "Python 3"
    },
    "language_info": {
      "name": "python"
    }
  },
  "cells": [
    {
      "cell_type": "markdown",
      "source": [
        "Task 01"
      ],
      "metadata": {
        "id": "Gih1yyH9HbXU"
      }
    },
    {
      "cell_type": "code",
      "execution_count": null,
      "metadata": {
        "colab": {
          "base_uri": "https://localhost:8080/"
        },
        "id": "ohMsjno5GklE",
        "outputId": "54e248c8-9ec6-45f7-862e-3055c2da2ecd"
      },
      "outputs": [
        {
          "output_type": "stream",
          "name": "stdout",
          "text": [
            "Please enter the first number: 5\n",
            "Please enter the second number: 2\n",
            "The sum of the two number is 7\n",
            "The product of the two number is 10\n",
            "The difference of the two number is 3\n"
          ]
        }
      ],
      "source": [
        "var1 = int(input(\"Please enter the first number: \"))\n",
        "var2 = int(input(\"Please enter the second number: \"))\n",
        "sum = var1 + var2\n",
        "product = var1 * var2\n",
        "difference = var1 - var2\n",
        "\n",
        "print(\"The sum of the two number is\",sum)\n",
        "print(\"The product of the two number is\",product)\n",
        "print(\"The difference of the two number is\",difference)"
      ]
    },
    {
      "cell_type": "markdown",
      "source": [
        "Task 02"
      ],
      "metadata": {
        "id": "oAC0L01gHf7H"
      }
    },
    {
      "cell_type": "code",
      "source": [
        "import math\n",
        "\n",
        "radius = float(input(\"Enter the radius of the circle: \"))\n",
        "area = math.pi * radius ** 2\n",
        "circumference = 2 * math.pi * radius\n",
        "print(\"Area is \",area)\n",
        "print(\"Circumference is \",circumference)"
      ],
      "metadata": {
        "colab": {
          "base_uri": "https://localhost:8080/"
        },
        "id": "_Bd7BSc5Hfip",
        "outputId": "0bcb0159-2520-4a1d-b474-b768489874f1"
      },
      "execution_count": null,
      "outputs": [
        {
          "output_type": "stream",
          "name": "stdout",
          "text": [
            "Enter the radius of the circle: 3.5\n",
            "Area is  38.48451000647496\n",
            "Circumference is  21.991148575128552\n"
          ]
        }
      ]
    },
    {
      "cell_type": "markdown",
      "source": [
        "Task 03"
      ],
      "metadata": {
        "id": "hJxmXtLAHkij"
      }
    },
    {
      "cell_type": "code",
      "source": [
        "a = int(input(\"Enter the first number: \"))\n",
        "b = int(input(\"Enter the second number: \"))\n",
        "\n",
        "if(a>b):\n",
        "  print(\"First is greater\")\n",
        "elif(b>a):\n",
        "  print(\"Second is greater\")\n",
        "else:\n",
        "  print(\"The numbers are equal\")"
      ],
      "metadata": {
        "colab": {
          "base_uri": "https://localhost:8080/"
        },
        "id": "0lbS1TpAHkKp",
        "outputId": "552fd2b1-f8d5-4bd6-9de7-f02f2ae8e8ec"
      },
      "execution_count": null,
      "outputs": [
        {
          "output_type": "stream",
          "name": "stdout",
          "text": [
            "Enter the first number: 11\n",
            "Enter the second number: 11\n",
            "The numbers are equal\n"
          ]
        }
      ]
    },
    {
      "cell_type": "markdown",
      "source": [
        "Task 04"
      ],
      "metadata": {
        "id": "k3hgkSPvHmsf"
      }
    },
    {
      "cell_type": "code",
      "source": [
        "a = int(input(\"Enter the first number: \"))\n",
        "b = int(input(\"Enter the second number: \"))\n",
        "\n",
        "if(a>b):\n",
        "  subtracts = a - b\n",
        "  print(\"The result of the subtracts is \",subtracts)\n",
        "else:\n",
        "  subtracts = b - a\n",
        "  print(\"The result of the subtracts is \",subtracts)"
      ],
      "metadata": {
        "colab": {
          "base_uri": "https://localhost:8080/"
        },
        "id": "HXqsRM2iHmGw",
        "outputId": "c126a45b-e35c-488e-b8d0-b8a1b1a5b92c"
      },
      "execution_count": null,
      "outputs": [
        {
          "output_type": "stream",
          "name": "stdout",
          "text": [
            "Enter the first number: 5\n",
            "Enter the second number: 5\n",
            "The result of the subtracts is  0\n"
          ]
        }
      ]
    },
    {
      "cell_type": "markdown",
      "source": [
        "Task 05"
      ],
      "metadata": {
        "id": "Zh0WcwcaHo-m"
      }
    },
    {
      "cell_type": "code",
      "source": [
        "number = int(input(\"Enter the number: \"))\n",
        "\n",
        "if(number % 2 == 0):\n",
        "  print(\"The number is even\")\n",
        "else:\n",
        "  print(\"The number is odd\")"
      ],
      "metadata": {
        "colab": {
          "base_uri": "https://localhost:8080/"
        },
        "id": "goxM10hJHoto",
        "outputId": "60515dec-b44b-4548-ea77-f1dd0221eb3e"
      },
      "execution_count": null,
      "outputs": [
        {
          "output_type": "stream",
          "name": "stdout",
          "text": [
            "Enter the number: -44\n",
            "The number is even\n"
          ]
        }
      ]
    },
    {
      "cell_type": "markdown",
      "source": [
        "Task 06"
      ],
      "metadata": {
        "id": "0e34gYOVHrZT"
      }
    },
    {
      "cell_type": "code",
      "source": [
        "num = int(input(\"Enter a number: \"))\n",
        "\n",
        "# if (num % 2 == 0 and num % 5 == 0):\n",
        "#   print(\"It's a multiple of 2 and 5 both\")\n",
        "if (num % 2 == 0):\n",
        "  print(\"It's a multiple of 2\")\n",
        "elif(num % 5 == 0):\n",
        "  print(\"It's a multiple of 5\")\n",
        "else:\n",
        "  print(\"Not a multiple of 2 or 5\")"
      ],
      "metadata": {
        "id": "pv-KBxcPHrKL",
        "colab": {
          "base_uri": "https://localhost:8080/"
        },
        "outputId": "6e0df48d-65ef-4ce4-b6fc-8b3ce3a43244"
      },
      "execution_count": null,
      "outputs": [
        {
          "output_type": "stream",
          "name": "stdout",
          "text": [
            "Enter a number: 3\n",
            "Not a multiple of 2 or 5\n"
          ]
        }
      ]
    },
    {
      "cell_type": "markdown",
      "source": [
        "Task 07"
      ],
      "metadata": {
        "id": "PqlWwS63Htm-"
      }
    },
    {
      "cell_type": "code",
      "source": [
        "num = int(input(\"Enter a number: \"))\n",
        "\n",
        "if (num % 2 == 0 and num % 5 == 0):\n",
        "  print(\"Multiple of 2 and 5 both\")\n",
        "elif (num % 2 == 0):\n",
        "  print(\"It's a multiple of 2\")\n",
        "elif(num % 5 == 0):\n",
        "  print(\"It's a multiple of 5\")\n",
        "else:\n",
        "  print(\"Not a multiple we want\")"
      ],
      "metadata": {
        "id": "crIZPXZ2HtXC",
        "colab": {
          "base_uri": "https://localhost:8080/"
        },
        "outputId": "f0c9ade3-8aa4-43cb-f317-0ae7bf79e846"
      },
      "execution_count": null,
      "outputs": [
        {
          "output_type": "stream",
          "name": "stdout",
          "text": [
            "Enter a number: 17\n",
            "Not a multiple we want\n"
          ]
        }
      ]
    },
    {
      "cell_type": "markdown",
      "source": [
        "Task 08"
      ],
      "metadata": {
        "id": "f8tJUTLBHvpi"
      }
    },
    {
      "cell_type": "code",
      "source": [
        "num = int(input(\"Enter a number: \"))\n",
        "\n",
        "if (num % 2 == 0 and num % 5 == 0):\n",
        "  print(\"Multiple of 2 and 5 both\")\n",
        "else:\n",
        "  print(\"Not multiple of 2 and 5 both\")"
      ],
      "metadata": {
        "id": "Uji6FKBSHvOB",
        "colab": {
          "base_uri": "https://localhost:8080/"
        },
        "outputId": "c334ef46-31fc-41fc-bc79-308717813bc7"
      },
      "execution_count": null,
      "outputs": [
        {
          "output_type": "stream",
          "name": "stdout",
          "text": [
            "Enter a number: 6\n",
            "Not multiple of 2 and 5 both\n"
          ]
        }
      ]
    },
    {
      "cell_type": "markdown",
      "source": [
        "Task 09"
      ],
      "metadata": {
        "id": "K093beRyHxTW"
      }
    },
    {
      "cell_type": "code",
      "source": [
        "num = int(input(\"Enetr the number of seconds: \"))\n",
        "\n",
        "hours = num // 3600\n",
        "minutes = (num - hours * 3600) // 60\n",
        "seconds = (num - hours * 3600) % 60\n",
        "print(\"Hours:\",hours,\"Minutes:\",minutes,\"Seconds\",seconds)"
      ],
      "metadata": {
        "id": "gU7qudhoHw4Y",
        "colab": {
          "base_uri": "https://localhost:8080/"
        },
        "outputId": "51ecb704-f324-4508-afc3-ca00cb02f0cf"
      },
      "execution_count": null,
      "outputs": [
        {
          "output_type": "stream",
          "name": "stdout",
          "text": [
            "Enetr the number of seconds: 500\n",
            "Hours: 0 Minutes: 8 Seconds 20\n"
          ]
        }
      ]
    },
    {
      "cell_type": "markdown",
      "source": [
        "Task 10"
      ],
      "metadata": {
        "id": "eDUfhC7xHzLt"
      }
    },
    {
      "cell_type": "code",
      "source": [
        "hour = int(input(\"Enter the working hours: \"))\n",
        "\n",
        "if(hour <0):\n",
        "  print(\"Hour cannot be negative\")\n",
        "elif(hour > 168):\n",
        "    print(\"Impossible to work more than 168 hours weekly\")\n",
        "elif(hour <= 40):\n",
        "  salary = 200 * hour\n",
        "  print(\"Your weekly salary is: \",salary)\n",
        "elif(hour > 40):\n",
        "  salary = 8000 + (hour - 40) * 300\n",
        "  print(\"Your weekly salary is: \",salary)\n",
        "else:\n",
        "  print(\"Invalid input\")"
      ],
      "metadata": {
        "id": "kXnrILrJHyux",
        "colab": {
          "base_uri": "https://localhost:8080/"
        },
        "outputId": "e0575d78-6410-4ab8-947e-c46b77b5f2bd"
      },
      "execution_count": null,
      "outputs": [
        {
          "output_type": "stream",
          "name": "stdout",
          "text": [
            "Enter the working hours: 170\n",
            "Impossible to work more than 168 hours weekly\n"
          ]
        }
      ]
    },
    {
      "cell_type": "markdown",
      "source": [
        "Task 11"
      ],
      "metadata": {
        "id": "hmeUxB7nH_Xf"
      }
    },
    {
      "cell_type": "code",
      "source": [
        "s = int(input(\"Enter the value of S: \"))\n",
        "\n",
        "if s < 100:\n",
        "  L = 3000 - 125 * s ** 2\n",
        "  print(\"The value of L is \",L)\n",
        "elif s >= 100:\n",
        "  L = 12000 / (4 + (s ** 2)/14900)\n",
        "  print(\"The value of L is \",L)\n",
        "else:\n",
        "  print(\"Invalid input\")"
      ],
      "metadata": {
        "id": "E9kd0T-9H-j9",
        "colab": {
          "base_uri": "https://localhost:8080/"
        },
        "outputId": "b8c10ae3-caa8-410c-9d8c-637bed1385a3"
      },
      "execution_count": null,
      "outputs": [
        {
          "output_type": "stream",
          "name": "stdout",
          "text": [
            "Enter the value of S: 3\n",
            "The value of L is  1875\n"
          ]
        }
      ]
    },
    {
      "cell_type": "markdown",
      "source": [
        "Task 12"
      ],
      "metadata": {
        "id": "SsbmeMUMICS5"
      }
    },
    {
      "cell_type": "code",
      "source": [
        "time = int(input(\"Enter your time in 24 hour format: \"))\n",
        "\n",
        "if time < 0 or time >23:\n",
        "  print(\"Wrong time\")\n",
        "elif 4<= time <= 6:\n",
        "  print(\"Breakfast\")\n",
        "elif 12<= time <= 13:\n",
        "  print(\"Lunch\")\n",
        "elif 16<= time <= 17:\n",
        "  print(\"Snacks\")\n",
        "elif 19<= time <= 20:\n",
        "  print(\"Dinner\")\n",
        "else:\n",
        "  print(\"Patience is a virtue\")\n"
      ],
      "metadata": {
        "id": "yal43h7bH-dQ"
      },
      "execution_count": null,
      "outputs": []
    },
    {
      "cell_type": "markdown",
      "source": [
        "Task 13"
      ],
      "metadata": {
        "id": "ifWf0NwSIFS2"
      }
    },
    {
      "cell_type": "code",
      "source": [
        "marks = int(input(\"Enter your marks: \"))\n",
        "\n",
        "if marks < 0 or  marks > 100:\n",
        "  print(\"Invalid marks\")\n",
        "elif marks >= 90:\n",
        "  print(\"Your grade is A\")\n",
        "elif 80<=marks <= 89:\n",
        "  print(\"Your grade is B\")\n",
        "elif 70<=marks <= 79:\n",
        "  print(\"Your grade is C\")\n",
        "elif 60<=marks <= 69:\n",
        "  print(\"Your grade is D\")\n",
        "elif 50<=marks <= 59:\n",
        "  print(\"Your grade is E\")\n",
        "else:\n",
        "  print(\"Your grade is F\")"
      ],
      "metadata": {
        "id": "XNpRfl-sH-YN",
        "colab": {
          "base_uri": "https://localhost:8080/"
        },
        "outputId": "1ff349e5-adc2-4ba5-e6c1-587bf4703156"
      },
      "execution_count": null,
      "outputs": [
        {
          "output_type": "stream",
          "name": "stdout",
          "text": [
            "Enter your marks: 49\n",
            "Your grade is F\n"
          ]
        }
      ]
    },
    {
      "cell_type": "markdown",
      "source": [
        "Task 14"
      ],
      "metadata": {
        "id": "Bv29af5cIG8c"
      }
    },
    {
      "cell_type": "code",
      "source": [
        "distance = float(input(\"Enter distance in merter: \"))\n",
        "time = float(input(\"Enter time in seconds: \"))\n",
        "\n",
        "velocity = distance / time\n",
        "velocity_in_km = velocity * 3.6\n",
        "print(velocity_in_km)\n",
        "if velocity_in_km < 60:\n",
        "  print(\"Too slow.Needs more changes\")\n",
        "elif 60<= velocity_in_km <=90:\n",
        "  print(\"Velocity is okay.The car is ready!\")\n",
        "else:\n",
        "  print(\"Too fast.Only a few changes should suffice\")\n"
      ],
      "metadata": {
        "id": "IjyoyI4IH-Rp"
      },
      "execution_count": null,
      "outputs": []
    },
    {
      "cell_type": "markdown",
      "source": [
        "Task 15"
      ],
      "metadata": {
        "id": "sRM2jzapIIUc"
      }
    },
    {
      "cell_type": "code",
      "source": [
        "cgpa = float(input(\"Enter your CGPA: \"))\n",
        "credit = int(input(\"Enter the number of completed credits: \"))\n",
        "\n",
        "if cgpa < 3.80 or credit < 30:\n",
        "  print(\"The student is not eligible for a waiver\")\n",
        "elif 3.80 <=cgpa <=3.89:\n",
        " print(\"The student is eligible for a waiver of 25 percent\")\n",
        "elif 3.90 <=cgpa <=3.94:\n",
        " print(\"The student is eligible for a waiver of 50 percent\")\n",
        "elif 3.95 <=cgpa <=3.99:\n",
        " print(\"The student is eligible for a waiver of 75 percent\")\n",
        "else:\n",
        "  print(\"The student is eligible for a waiver of 100 percent\")"
      ],
      "metadata": {
        "id": "KEFeDNb_H-L5",
        "colab": {
          "base_uri": "https://localhost:8080/"
        },
        "outputId": "b6fb5c85-e485-4258-d5e5-a6830e7419d3"
      },
      "execution_count": null,
      "outputs": [
        {
          "output_type": "stream",
          "name": "stdout",
          "text": [
            "Enter your CGPA: 4\n",
            "Enter the number of completed credits: 100\n",
            "The student is eligible for a waiver of 100 percent\n"
          ]
        }
      ]
    },
    {
      "cell_type": "markdown",
      "source": [
        "Task 16"
      ],
      "metadata": {
        "id": "TpZAH4QUIKY4"
      }
    },
    {
      "cell_type": "code",
      "source": [
        "p = 5\n",
        "q = 6\n",
        "r = 9\n",
        "sum = 0\n",
        "if (p < 12):\n",
        " print(r + 2)\n",
        "else:\n",
        " print(r + p)\n",
        "if (q > 20):\n",
        " print(r + 19)\n",
        "elif (q <= 6):\n",
        " print(q + 3)\n",
        "else:\n",
        " print(p + q + r)\n",
        "if (r > 15):\n",
        " print(r)\n",
        "elif (r == 0):\n",
        " print(p + q)\n",
        "else:\n",
        " print(p)\n",
        "if (sum != 0):\n",
        " print(3)\n",
        "else:\n",
        " print(sum + 32)\n",
        "if (p>0 and r<10):\n",
        " print(p+r)\n",
        "else:\n",
        " print(p-r)"
      ],
      "metadata": {
        "id": "VGSPDZdRH-GK",
        "colab": {
          "base_uri": "https://localhost:8080/"
        },
        "outputId": "aaf75da2-ea60-45c5-eb0d-c64eabe4ef27"
      },
      "execution_count": null,
      "outputs": [
        {
          "output_type": "stream",
          "name": "stdout",
          "text": [
            "11\n",
            "9\n",
            "5\n",
            "32\n",
            "14\n"
          ]
        }
      ]
    },
    {
      "cell_type": "markdown",
      "source": [
        "Task 17"
      ],
      "metadata": {
        "id": "zpThfJa6ILm6"
      }
    },
    {
      "cell_type": "code",
      "source": [
        "\n",
        "\n",
        "var1 = var2 = var3 = var4 = var5 = var6 = False\n",
        "result1 = False\n",
        "result2 = False\n",
        "result3 = False\n",
        "result4 = False\n",
        "result5 = False\n",
        "result6 = False\n",
        "result7 = False\n",
        "result8 = False\n",
        "result9 = False\n",
        "result10 = False\n",
        "var1 = 4 > 3 - 1\n",
        "var2 = var1 and False\n",
        "var3 = True\n",
        "var4 = False\n",
        "var5 = True\n",
        "var6 = var3 and False\n",
        "result1 = (var1 or var2) and (8 * 10 > 45)\n",
        "result2 = (var1 or var2) and (result1 and False)\n",
        "result3 = (var1 and result1) or result2\n",
        "result4 = (var1 or var2) or ((var3 and var1) and False)\n",
        "result5 = (var1 and var2) and (result3 or var1)\n",
        "result6 = ((var3 or var2) and not(result5)) or True\n",
        "result7 = (var4 and result1) and ((result1 and False) or True)\n",
        "result8 = ((var1 and result3) and (var5 or var6)) and True\n",
        "result9 = ((result2 and var2) or (result7 and var1)) and False\n",
        "result10 = not(var1 and True)"
      ],
      "metadata": {
        "id": "Ye3I6ijlH-As"
      },
      "execution_count": null,
      "outputs": []
    },
    {
      "cell_type": "markdown",
      "source": [
        "Task 18"
      ],
      "metadata": {
        "id": "VqTD95mwIMxV"
      }
    },
    {
      "cell_type": "code",
      "source": [
        "var1 = False\n",
        "var2 = False\n",
        "var3 = False\n",
        "var4 = False\n",
        "var5 = False\n",
        "var6 = False\n",
        "result1 = False\n",
        "result2 = False\n",
        "result3 = False\n",
        "result4 = False\n",
        "result5 = False\n",
        "result6 = False\n",
        "result7 = False\n",
        "result8 = False\n",
        "result9 = False\n",
        "result10 = False\n",
        "var1 = ((not True) or True) and False\n",
        "var2 = var1 and False\n",
        "var3 = True and not False\n",
        "var4 = False\n",
        "var5 = True\n",
        "var6 = var3 and False\n",
        "result1 = (var1 and var2) and (40 % 3) > 45 or (var5 and var6)\n",
        "result2 = (var1 or var2) or (result1 and False)\n",
        "result3 = (var1 and result1) or result2 or var5\n",
        "result4 = (var1 or var2) or ((var3 and var1) and False)\n",
        "result5 = (var1 and var2) and (result3 or var1)\n",
        "result6 = ((var3 or (not var2)) and (result5)) or True\n",
        "result7 = (var4 and result1) and ((result1 and False) or True)\n",
        "result8 = ((var1 and result3) and ((not var5) or var6)) and True\n",
        "result9 = ((result2 and var2) or ((not result7) and var1)) and not False\n",
        "result10 = not(var1 and True)"
      ],
      "metadata": {
        "id": "3s62udX_H95-"
      },
      "execution_count": null,
      "outputs": []
    },
    {
      "cell_type": "markdown",
      "source": [
        "Task 19"
      ],
      "metadata": {
        "id": "1rr75lLbIOAW"
      }
    },
    {
      "cell_type": "code",
      "source": [
        "var1 = var2 = var3 = var4 = var5 = var6 = False\n",
        "result1 = result2 = result3 = result4 = result5 = result6 = False\n",
        "result7 = result8 = result9 = result10 = False\n",
        "var1 = (not False or False) and True\n",
        "var2 = var1 and True\n",
        "var3 = False and not True\n",
        "var4 = True\n",
        "var5 = False\n",
        "var6 = var3 and True\n",
        "result1 = (var1 and var2) and ( 40 % 3 > 45) or (var5 and var6)\n",
        "result2 = (var1 or var2) or (result1 and False)\n",
        "result3 = (var1 and result1) or result2 or var5\n",
        "result4 = (var1 or var2) or ((var3 and var1) and False)\n",
        "result5 = (var1 and var2) and (result3 or var1)\n",
        "result6 = ((var3 or not var2) and (result5)) or True\n",
        "result7 = (var4 and result1) and ((result1 and False) or True)\n",
        "result8 = ((var1 and result3) and (not var5 or var6)) and True\n",
        "result9 = ((result2 and var2) or (not result7 and var1)) and not False\n",
        "result10 = not (var1 and True)"
      ],
      "metadata": {
        "id": "IxfgydjEH90Y"
      },
      "execution_count": null,
      "outputs": []
    },
    {
      "cell_type": "markdown",
      "source": [
        "Task 20"
      ],
      "metadata": {
        "id": "GaVrw1c2IP5Y"
      }
    },
    {
      "cell_type": "code",
      "source": [
        "n = int(input(\"Enter a number: \"))\n",
        "\n",
        "if n%2==0 or n%5==0:\n",
        "  print(\"No\")\n",
        "else:\n",
        "  print(n)"
      ],
      "metadata": {
        "id": "FkFNmek_H9uB",
        "colab": {
          "base_uri": "https://localhost:8080/"
        },
        "outputId": "b9e2eade-6d6d-4cda-d9e6-847ec489e5b2"
      },
      "execution_count": null,
      "outputs": [
        {
          "output_type": "stream",
          "name": "stdout",
          "text": [
            "Enter a number: 12\n",
            "No\n"
          ]
        }
      ]
    },
    {
      "cell_type": "markdown",
      "source": [
        "Task 21"
      ],
      "metadata": {
        "id": "lDgaQSY2IRHF"
      }
    },
    {
      "cell_type": "code",
      "source": [
        "n = int(input(\"Enter a number: \"))\n",
        "\n",
        "if n%2==0 and n%5==0:\n",
        "  print(\"No\")\n",
        "else:\n",
        "  print(n)"
      ],
      "metadata": {
        "id": "HZWfF2g-H9nA",
        "colab": {
          "base_uri": "https://localhost:8080/"
        },
        "outputId": "afe77644-e027-4e18-ca6b-cabb133162b3"
      },
      "execution_count": null,
      "outputs": [
        {
          "output_type": "stream",
          "name": "stdout",
          "text": [
            "Enter a number: 20\n",
            "No\n"
          ]
        }
      ]
    },
    {
      "cell_type": "markdown",
      "source": [
        "Task 22"
      ],
      "metadata": {
        "id": "QgOc4jcBISUs"
      }
    },
    {
      "cell_type": "code",
      "source": [
        "canvas = int(input(\"Enter canvas number: \"))\n",
        "paintTube = int(input(\"Enter paintTube number: \"))\n",
        "\n",
        "total = canvas*120 + paintTube*75\n",
        "\n",
        "if 0<= total <=299:\n",
        "  dis = 0\n",
        "elif 300<= total <=499:\n",
        "  dis = 10\n",
        "elif 500<= total <=749:\n",
        "  dis = 20\n",
        "elif 750<= total <=999:\n",
        "  dis = 50\n",
        "else:\n",
        "  dis = 150\n",
        "\n",
        "payment = total - dis\n",
        "print(\"Previous total\",total)\n",
        "print(\"New total after discount\",payment)"
      ],
      "metadata": {
        "id": "Dm4axs0pH9ec",
        "colab": {
          "base_uri": "https://localhost:8080/"
        },
        "outputId": "053a4cc2-3b60-458c-a03f-dc423fab9ab3"
      },
      "execution_count": null,
      "outputs": [
        {
          "output_type": "stream",
          "name": "stdout",
          "text": [
            "Enter canvas number: 0\n",
            "Enter paintTube number: 3\n",
            "Previous total 225\n",
            "New total after discount 225\n"
          ]
        }
      ]
    },
    {
      "cell_type": "markdown",
      "source": [
        "Task 23"
      ],
      "metadata": {
        "id": "0xgc2QsdITxI"
      }
    },
    {
      "cell_type": "code",
      "source": [
        "tem = eval(input(\"Enter temperature in Fahrenheit: \"))\n",
        "\n",
        "c = (tem - 32) * 0.56\n",
        "\n",
        "print(c,\"Degrees in c\")\n",
        "\n",
        "if c <20:\n",
        "  print(\"The season is Winter\")\n",
        "elif 20< c <25:\n",
        "  print(\"The season is Autumn\")\n",
        "elif 25< c <30:\n",
        "  print(\"The season is Spring\")\n",
        "else:\n",
        "  print(\"The season is Summer\")"
      ],
      "metadata": {
        "id": "N87SxxmGH9WP",
        "colab": {
          "base_uri": "https://localhost:8080/"
        },
        "outputId": "a9b7d506-d96a-4fad-b7a4-d76fafaf769e"
      },
      "execution_count": null,
      "outputs": [
        {
          "output_type": "stream",
          "name": "stdout",
          "text": [
            "Enter temperature in Fahrenheit: 77\n",
            "25.200000000000003 Degrees in c\n",
            "The season is Spring\n"
          ]
        }
      ]
    }
  ]
}