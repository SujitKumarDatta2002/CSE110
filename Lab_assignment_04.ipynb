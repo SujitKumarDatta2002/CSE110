{
  "cells": [
    {
      "cell_type": "markdown",
      "metadata": {
        "id": "SmUTn02KGRwW"
      },
      "source": [
        "**Task 01**"
      ]
    },
    {
      "cell_type": "code",
      "execution_count": null,
      "metadata": {
        "colab": {
          "base_uri": "https://localhost:8080/"
        },
        "id": "XMnweQsLGMtQ",
        "outputId": "0a443313-9ff6-4f84-ac76-e2cf06fe42cb"
      },
      "outputs": [
        {
          "name": "stdout",
          "output_type": "stream",
          "text": [
            "Enter a string: CSE110\n",
            "011ESC\n"
          ]
        }
      ],
      "source": [
        "user = input(\"Enter a string: \")\n",
        "\n",
        "print(user[len(user)::-1])\n",
        "\n",
        "\n",
        "\n",
        "\n",
        "# Using for loop\n",
        "\n",
        "user = input(\"Enter a string: \")\n",
        "revs = \"\"\n",
        "for i in range(len(user)-1,-1,-1):\n",
        "  revs += user[i]\n",
        "print(revs)"
      ]
    },
    {
      "cell_type": "markdown",
      "metadata": {
        "id": "OwWhlbPKKCBw"
      },
      "source": [
        "**Task 02**"
      ]
    },
    {
      "cell_type": "code",
      "execution_count": null,
      "metadata": {
        "colab": {
          "base_uri": "https://localhost:8080/"
        },
        "id": "7XIdXyYgKBTT",
        "outputId": "e4ac8dce-48f0-446f-c176-733f2443ce00"
      },
      "outputs": [
        {
          "name": "stdout",
          "output_type": "stream",
          "text": [
            "Enter a string: aBcd1234defg\n",
            "Enter index number: 5\n",
            "21dcBa34defg\n"
          ]
        }
      ],
      "source": [
        "user = input(\"Enter a string: \")\n",
        "index = int(input(\"Enter index number: \"))\n",
        "\n",
        "print(user[index::-1] + user[index+1::])"
      ]
    },
    {
      "cell_type": "markdown",
      "metadata": {
        "id": "C_W5oPF0qN_H"
      },
      "source": [
        "**Task 03**"
      ]
    },
    {
      "cell_type": "code",
      "execution_count": null,
      "metadata": {
        "colab": {
          "base_uri": "https://localhost:8080/"
        },
        "id": "r97as-nkqJbr",
        "outputId": "792368ec-7651-49b0-d139-68eca13c0f4a"
      },
      "outputs": [
        {
          "name": "stdout",
          "output_type": "stream",
          "text": [
            "Enter stringBinary Number\n",
            "Not binary number\n"
          ]
        }
      ],
      "source": [
        "user = input(\"Enter string: \")\n",
        "\n",
        "\n",
        "binary = True\n",
        "for i in user:\n",
        "  if i!='0' and i!='1':\n",
        "    binary = False\n",
        "if binary:\n",
        "  print(\"Binary Number\")\n",
        "else:\n",
        "  print(\"Not binary number\")"
      ]
    },
    {
      "cell_type": "markdown",
      "metadata": {
        "id": "MNTcJKmyqQx0"
      },
      "source": [
        "**Task 04**"
      ]
    },
    {
      "cell_type": "code",
      "execution_count": null,
      "metadata": {
        "colab": {
          "base_uri": "https://localhost:8080/"
        },
        "id": "PtqXzvulqJjD",
        "outputId": "5783a160-d6ad-4a59-c255-eb927d199267"
      },
      "outputs": [
        {
          "name": "stdout",
          "output_type": "stream",
          "text": [
            "Enter a word: ber\n",
            "ber\n"
          ]
        }
      ],
      "source": [
        "# Cannot follow built in function\n",
        "\n",
        "# user = input(\"Enter a word: \")\n",
        "\n",
        "\n",
        "# if len(user) < 4:\n",
        "#   print(user)\n",
        "# elif user.endswith(\"er\"):\n",
        "#   print(user.replace(\"er\", \"est\"))\n",
        "# elif user.endswith(\"est\"):\n",
        "#   print(user)\n",
        "# elif len(user) >3:\n",
        "#   print(user+\"er\")\n",
        "\n",
        "\n",
        "\n",
        "# Method 2\n",
        "\n",
        "user = input(\"Enter a word: \")\n",
        "\n",
        "if len(user) < 4:\n",
        "   print(user)\n",
        "elif len(user)>3 and not(\"er\" in user[-2:]):\n",
        "  print(user + \"er\")\n",
        "elif \"er\" in user[-2:]:\n",
        "  c = user[-len(user):-2:1]\n",
        "  print(c + \"est\")\n",
        "elif \"est\" in user[-3:]:\n",
        "  print(user)\n"
      ]
    },
    {
      "cell_type": "markdown",
      "metadata": {
        "id": "CcorVhKFqT76"
      },
      "source": [
        "**Task 05**"
      ]
    },
    {
      "cell_type": "code",
      "execution_count": null,
      "metadata": {
        "colab": {
          "base_uri": "https://localhost:8080/"
        },
        "id": "1VJ-PvmmqJpx",
        "outputId": "d4291bc5-afd4-47e7-c4e0-27db671897eb"
      },
      "outputs": [
        {
          "name": "stdout",
          "output_type": "stream",
          "text": [
            "Enter a string: DREAM\n",
            "D\n",
            "DR\n",
            "DRE\n",
            "DREA\n",
            "DREAM\n"
          ]
        }
      ],
      "source": [
        "user = input(\"Enter a word: \")\n",
        "\n",
        "for i in range(1,len(user)+1):\n",
        "  for j in range(1,i+1):\n",
        "    print(user[j-1],end=\"\")\n",
        "  print()\n",
        "\n",
        "# Method 2\n",
        "\n",
        "# str1 = input(\"Emter a string: \")\n",
        "# rev_s = ''\n",
        "# for i in range(0,len(str1),1):\n",
        "#   rev_s = rev_s + str1[i]\n",
        "#   print(rev_s)"
      ]
    },
    {
      "cell_type": "markdown",
      "metadata": {
        "id": "JwzxpSRxqW5R"
      },
      "source": [
        "**Task 06**"
      ]
    },
    {
      "cell_type": "code",
      "execution_count": null,
      "metadata": {
        "colab": {
          "base_uri": "https://localhost:8080/"
        },
        "id": "7-UvIInEqJwI",
        "outputId": "287dd98d-da3f-48df-ea5d-16feacd2b666"
      },
      "outputs": [
        {
          "name": "stdout",
          "output_type": "stream",
          "text": [
            "Enter a word: hunger\n",
            "h : 104\n",
            "u : 117\n",
            "n : 110\n",
            "g : 103\n",
            "e : 101\n",
            "r : 114\n"
          ]
        }
      ],
      "source": [
        "user = input(\"Enter a word: \")\n",
        "\n",
        "for char in user:\n",
        "   ascii = ord(char)\n",
        "   print(char,\":\",ascii)"
      ]
    },
    {
      "cell_type": "markdown",
      "metadata": {
        "id": "tExSMfy-qZri"
      },
      "source": [
        "**Task 07**"
      ]
    },
    {
      "cell_type": "code",
      "execution_count": null,
      "metadata": {
        "colab": {
          "base_uri": "https://localhost:8080/"
        },
        "id": "N2GZQCvXqJ2u",
        "outputId": "9e69e03a-d6df-4331-f19e-4c3dbd0ac349"
      },
      "outputs": [
        {
          "name": "stdout",
          "output_type": "stream",
          "text": [
            "Enter letters: xyzabc\n",
            "yzabcd"
          ]
        }
      ],
      "source": [
        "user = input(\"Enter letters: \")\n",
        "\n",
        "for char in user:\n",
        "   ascii = ord(char)\n",
        "   if 96<ascii<123:\n",
        "     \n",
        "     if ascii == 122:\n",
        "       print(\"a\",end=\"\")\n",
        "       ascii =ascii + 1\n",
        "     else:  \n",
        "       ascii =ascii + 1\n",
        "       print(chr(ascii),end=\"\")\n",
        "      \n",
        "   else:\n",
        "       ascii =ascii + 1\n",
        "       print(chr(ascii),end=\"\")\n"
      ]
    },
    {
      "cell_type": "markdown",
      "metadata": {
        "id": "d4OoVLA4qcpA"
      },
      "source": [
        "**Task 08**"
      ]
    },
    {
      "cell_type": "code",
      "execution_count": null,
      "metadata": {
        "colab": {
          "base_uri": "https://localhost:8080/"
        },
        "id": "uN6GeYnpqJ8s",
        "outputId": "5aa39bc1-1dd2-4b46-8488-142df312adf8"
      },
      "outputs": [
        {
          "name": "stdout",
          "output_type": "stream",
          "text": [
            "Enter a stringabcd\n",
            "BD"
          ]
        }
      ],
      "source": [
        "user = input(\"Enter a string: \")\n",
        "\n",
        "for i in range(0,len(user)):\n",
        "  if i % 2!= 0:\n",
        "    char_up = chr(ord(user[i])-32)\n",
        "    print(char_up,end=\"\")\n",
        "  else:\n",
        "    pass"
      ]
    },
    {
      "cell_type": "markdown",
      "metadata": {
        "id": "KwRYlVc2qhh_"
      },
      "source": [
        "**Task 09**"
      ]
    },
    {
      "cell_type": "code",
      "execution_count": null,
      "metadata": {
        "colab": {
          "base_uri": "https://localhost:8080/"
        },
        "id": "abGrLJVFqKDo",
        "outputId": "3d5530b4-17d3-46c8-cdc9-727069c55362"
      },
      "outputs": [
        {
          "name": "stdout",
          "output_type": "stream",
          "text": [
            "Enter a string: AAABBBBCDDBBECE\n",
            "ABCDBECE\n"
          ]
        }
      ],
      "source": [
        "# string = \"AAABBBBCDDBBECE\"\n",
        "\n",
        "user = input(\"Enter a string: \")\n",
        "\n",
        "newString = \"\"\n",
        "\n",
        "for chr in user:\n",
        "\n",
        "  if newString == \"\" or chr != newString[len(newString)-1]:\n",
        "    newString += chr\n",
        "\n",
        "print(newString)\n",
        "\n",
        "# foo = '12233322155552'\n",
        "# bar = ''\n",
        "# for chr in foo:\n",
        "#     if bar == '' or chr != bar[len(bar)-1]:\n",
        "#         bar += chr\n",
        "# print(bar)"
      ]
    },
    {
      "cell_type": "markdown",
      "metadata": {
        "id": "NIs-BnTbqj62"
      },
      "source": [
        "**Task 10**"
      ]
    },
    {
      "cell_type": "code",
      "execution_count": null,
      "metadata": {
        "colab": {
          "base_uri": "https://localhost:8080/"
        },
        "id": "VRm5ToQSqKKx",
        "outputId": "fb7cbc95-89c3-4a5b-8911-028f6e20eb10"
      },
      "outputs": [
        {
          "name": "stdout",
          "output_type": "stream",
          "text": [
            "ijkl, ABCDENDFGH\n",
            "iAjBkClDENDFGH\n"
          ]
        }
      ],
      "source": [
        "line = input()\n",
        "n1 = 0\n",
        "i1 = 0\n",
        "while line[n1] != ',':\n",
        "    n1 += 1\n",
        "i2 = n1 + 2\n",
        "n2 = len(line)\n",
        "\n",
        "res = ''\n",
        "while i1 < n1 and i2 < n2:\n",
        "    res += line[i1] + line[i2]\n",
        "    i1 += 1\n",
        "    i2 += 1\n",
        "\n",
        "if i1 < n1:\n",
        "    res += line[i1:n1]\n",
        "else:\n",
        "    res += line[i2:n2]\n",
        "\n",
        "print(res)"
      ]
    },
    {
      "cell_type": "markdown",
      "metadata": {
        "id": "O_ZRkkCdqm38"
      },
      "source": [
        "**Task 11**"
      ]
    },
    {
      "cell_type": "code",
      "execution_count": null,
      "metadata": {
        "colab": {
          "base_uri": "https://localhost:8080/"
        },
        "id": "GeuXkC7rqKR3",
        "outputId": "c4641f2d-c4b6-4a2e-9e15-bdfe2b8cf3c7"
      },
      "outputs": [
        {
          "name": "stdout",
          "output_type": "stream",
          "text": [
            "5 == 5\n",
            "2 == 2\n",
            "0 == 0\n",
            "-3 != -2\n",
            "-5 != -5\n",
            "-8 != -7\n",
            "-10 != -10\n"
          ]
        }
      ],
      "source": [
        "\n",
        "i = 10\n",
        "while(i >= -20):\n",
        "    if(i < 0):\n",
        "        test = \" != \"\n",
        "        test = str(i//2) + test + str(int(i/2))\n",
        "    else:\n",
        "        test = \" == \"\n",
        "        test = str(i//2) + test + str(int(i/2))\n",
        "    print(test)\n",
        "    i -= 5"
      ]
    },
    {
      "cell_type": "markdown",
      "metadata": {
        "id": "OVlYBQsIqpXl"
      },
      "source": [
        "**Task 12**"
      ]
    },
    {
      "cell_type": "code",
      "execution_count": null,
      "metadata": {
        "colab": {
          "base_uri": "https://localhost:8080/"
        },
        "id": "qBhQsspZqKYi",
        "outputId": "792a4a0f-d474-4f53-c7b4-242820ae2aca"
      },
      "outputs": [
        {
          "name": "stdout",
          "output_type": "stream",
          "text": [
            "14-->-->\n",
            "13-->14-->-->\n",
            "12-->13-->14-->-->\n",
            "11-->12-->13-->14-->-->\n",
            "14-->11-->12-->13-->14-->-->\n",
            "13-->14-->11-->12-->13-->14-->-->\n",
            "12-->13-->14-->11-->12-->13-->14-->-->\n",
            "14-->12-->13-->14-->11-->12-->13-->14-->-->\n",
            "13-->14-->12-->13-->14-->11-->12-->13-->14-->-->\n",
            "14-->13-->14-->12-->13-->14-->11-->12-->13-->14-->-->\n"
          ]
        }
      ],
      "source": [
        "test = \"\"\n",
        "i = 0\n",
        "j = 0\n",
        "k = 15\n",
        "test = \"-->\"\n",
        "while i < 5:\n",
        "    j = k - 1\n",
        "    k -= 1\n",
        "    while j > 10:\n",
        "        test = str(i + j) + \"-->\" + test\n",
        "        print(test)\n",
        "        j -= 1\n",
        "    i += 1\n",
        "\n"
      ]
    },
    {
      "cell_type": "markdown",
      "metadata": {
        "id": "eoG258lQqsMp"
      },
      "source": [
        "**Task 13**"
      ]
    },
    {
      "cell_type": "code",
      "execution_count": null,
      "metadata": {
        "colab": {
          "base_uri": "https://localhost:8080/"
        },
        "id": "jR3Zjh2SqKgF",
        "outputId": "49829ae2-a6ed-4756-a634-d2678085e793"
      },
      "outputs": [
        {
          "name": "stdout",
          "output_type": "stream",
          "text": [
            "<--52-->7\n",
            "-->2-->13\n",
            "<--52-->6\n",
            "-->2-->11\n",
            "-->3-->13\n",
            "<--62-->6\n",
            "-->3-->11\n",
            "<--72-->6\n",
            "-->3-->11\n",
            "-->4-->11\n"
          ]
        }
      ],
      "source": [
        "test = \"\"\n",
        "i = 5\n",
        "j = 0\n",
        "k = 15\n",
        "while i< 10:\n",
        "    k-=1\n",
        "    j = k\n",
        "    while j > 10:\n",
        "        if (j % 2) == 0:\n",
        "            test = \"<--\"\n",
        "            test = str(test) + str(i) + str(2) + \"-->\" + str(int(j / 2))  \n",
        "        else:\n",
        "            test = \"-->\"\n",
        "            test = \"-->\" + str(int(i / 2)) + str(test) + str(j)\n",
        "        print(test)\n",
        "        j = j-1\n",
        "    i+=1\n",
        "\n"
      ]
    },
    {
      "cell_type": "markdown",
      "metadata": {
        "id": "vcKXt4WXqvID"
      },
      "source": [
        "**Task 14**"
      ]
    },
    {
      "cell_type": "code",
      "execution_count": null,
      "metadata": {
        "colab": {
          "base_uri": "https://localhost:8080/"
        },
        "id": "YRPYlLrYqKnJ",
        "outputId": "9a06dae7-183a-49a6-aec5-b4f37c2dd137"
      },
      "outputs": [
        {
          "name": "stdout",
          "output_type": "stream",
          "text": [
            "<--53-->4\n",
            "-->1-->13\n",
            "<--53-->4\n",
            "-->1-->11\n",
            "-->2-->13\n",
            "<--63-->4\n",
            "-->2-->11\n",
            "<--73-->4\n",
            "-->2-->11\n",
            "-->2-->11\n"
          ]
        }
      ],
      "source": [
        "test = \"\"\n",
        "i = 5\n",
        "j = 0\n",
        "k = 15\n",
        "while (i< 10): \n",
        "    k-=1\n",
        "    j = k\n",
        "    while (j > 10 ):\n",
        "        if j % 2 == 0:\n",
        "            test = \"<--\"\n",
        "            test = test + str( i) + '3' + \"-->\" + str(j // 3)\n",
        "        else:\n",
        "            test = \"-->\"\n",
        "            test = \"-->\" + str((i // 3)) + test + str(j)\n",
        "        print(test)\n",
        "        j -=1\n",
        "    i+=1\n",
        "\n"
      ]
    },
    {
      "cell_type": "markdown",
      "metadata": {
        "id": "LXBOlilSqxd9"
      },
      "source": [
        "**Task 15**"
      ]
    },
    {
      "cell_type": "code",
      "execution_count": null,
      "metadata": {
        "colab": {
          "base_uri": "https://localhost:8080/"
        },
        "id": "Jfh6CAKyqKxl",
        "outputId": "32d7c11b-d817-4880-9d23-e34a479a1e93"
      },
      "outputs": [
        {
          "name": "stdout",
          "output_type": "stream",
          "text": [
            "<--cat-->07\n",
            "<--cat-->07<--013\n",
            "<--cat-->07<--013-->06\n",
            "<--cat-->07<--013-->06<--011\n",
            "<--cat-->07<--013-->06<--011<--013\n",
            "<--cat-->07<--013-->06<--011<--013-->16\n",
            "<--cat-->07<--013-->06<--011<--013-->16<--011\n",
            "<--cat-->07<--013-->06<--011<--013-->16<--011-->26\n",
            "<--cat-->07<--013-->06<--011<--013-->16<--011-->26<--111\n",
            "<--cat-->07<--013-->06<--011<--013-->16<--011-->26<--111<--111\n"
          ]
        }
      ],
      "source": [
        "i=0\n",
        "j=0\n",
        "k=15\n",
        "test = '<--cat'\n",
        "while i < 5:\n",
        "    k -= 1\n",
        "    j = k\n",
        "    while j > 10:\n",
        "        if j % 2 == 0:\n",
        "            test += '-->'\n",
        "            test = test + str(i) + str(j // 2)\n",
        "        else:\n",
        "            test += '<--'\n",
        "            test = test + str(i // 2) + str(j)\n",
        "        print(test)\n",
        "        j-=1\n",
        "    i+=1\n",
        "\n"
      ]
    },
    {
      "cell_type": "markdown",
      "metadata": {
        "id": "QzNfEzEs6pdL"
      },
      "source": [
        "**Task 16**"
      ]
    },
    {
      "cell_type": "code",
      "execution_count": null,
      "metadata": {
        "colab": {
          "base_uri": "https://localhost:8080/"
        },
        "id": "v5IKV7pC6mqE",
        "outputId": "5762a1f6-3988-4c0b-e5a9-2465ba87323f"
      },
      "outputs": [
        {
          "name": "stdout",
          "output_type": "stream",
          "text": [
            "hi\n",
            "a\n",
            "hi\n"
          ]
        }
      ],
      "source": [
        "string = input()\n",
        "ch = input()\n",
        "\n",
        "\n",
        "res = ''\n",
        "for c in string:\n",
        "    if c != ch:\n",
        "        res += c\n",
        "\n",
        "if len(res) == len(string):\n",
        "    if len(res) > 3:\n",
        "        res = res[1:-1]\n",
        "\n",
        "print(res)"
      ]
    },
    {
      "cell_type": "markdown",
      "metadata": {
        "id": "N--trIEK8ySu"
      },
      "source": [
        "**Task 17**"
      ]
    },
    {
      "cell_type": "code",
      "execution_count": null,
      "metadata": {
        "colab": {
          "base_uri": "https://localhost:8080/"
        },
        "id": "np24X3BKqu72",
        "outputId": "61aa9db7-bab2-407b-d312-77cbcd578149"
      },
      "outputs": [
        {
          "name": "stdout",
          "output_type": "stream",
          "text": [
            "tom@gmail,harry@yahoo,bob@gmail,mary@gmail\n",
            "@\n",
            "tom\n",
            "\n",
            "gmail,harry\n",
            "\n",
            "yahoo,bob\n",
            "\n",
            "gmail,mary\n",
            "\n",
            "gmail\n"
          ]
        }
      ],
      "source": [
        "string = input()\n",
        "ch = input()\n",
        "\n",
        "\n",
        "rstr=''\n",
        "for i in string:\n",
        "  # ascii = ord(i)\n",
        "\n",
        "  if i == ch :\n",
        "    print(rstr + \"\\n\")\n",
        "    rstr = \"\"\n",
        "  else:\n",
        "      \n",
        "    rstr += i\n",
        "print(rstr)"
      ]
    },
    {
      "cell_type": "markdown",
      "metadata": {
        "id": "xurpADkSA8Uy"
      },
      "source": [
        "**Task 18**"
      ]
    },
    {
      "cell_type": "code",
      "execution_count": null,
      "metadata": {
        "colab": {
          "base_uri": "https://localhost:8080/"
        },
        "id": "_cs1ISXQA7xl",
        "outputId": "d8a4385d-0827-4fef-8afd-a8f35eb249d8"
      },
      "outputs": [
        {
          "name": "stdout",
          "output_type": "stream",
          "text": [
            "Enter a string: CSE110\n",
            "Enter a number: 3\n",
            "CSE110CSE110CSE110CSE110CSE110CSE110CSE110CSE110CSE110"
          ]
        }
      ],
      "source": [
        "string = input(\"Enter a string: \")\n",
        "num = int(input(\"Enter a number: \"))\n",
        "\n",
        "if num%2==0:\n",
        "  for i in range(0,2*num):\n",
        "    print(string,end='')\n",
        "\n",
        "else:\n",
        "    for i in range(0,3*num):\n",
        "     print(string,end='')"
      ]
    },
    {
      "cell_type": "markdown",
      "metadata": {
        "id": "0xuPbU8yCICa"
      },
      "source": [
        "**Task 19**"
      ]
    },
    {
      "cell_type": "code",
      "execution_count": null,
      "metadata": {
        "colab": {
          "base_uri": "https://localhost:8080/"
        },
        "id": "FpP3N14gFuGu",
        "outputId": "bfe9407f-77f3-4225-d6a8-0e73e5cc4a46"
      },
      "outputs": [
        {
          "name": "stdout",
          "output_type": "stream",
          "text": [
            "Python programming is very easy\n",
            "PyThOn PrOgRaMmInG\u0000iS\u0000vErY\u0000eAsY\n"
          ]
        }
      ],
      "source": [
        "user=input()\n",
        "s=\"\"\n",
        "upper=True\n",
        "if user[0]>='a' and user[0]<='z':\n",
        "  s+=chr(ord(user[0])-32)\n",
        "else:\n",
        "  s+=user[0]\n",
        "  # s+=chr(ord(user[0])+32)\n",
        "for i in range(1,len(user)):\n",
        "  if upper==True:\n",
        "    if user[i]>='A' and user[i]<='Z':\n",
        "      upper=False\n",
        "      s+=chr(ord(user[i])+32)\n",
        "    elif user[i]>='a'and user[i]<='z':\n",
        "      upper=False\n",
        "      s+=user[i]\n",
        "      # s+=chr(ord(user[i])-32)\n",
        "    else:\n",
        "      s+=chr(ord(user[i])-32)\n",
        "      # s+=user[i]\n",
        "  else:\n",
        "    if user[i]>='A' and user[i]<='Z':\n",
        "      upper=True\n",
        "      s+=user[i]\n",
        "      # s+=chr(ord(user[i])+32)\n",
        "    elif user[i]>='a' and user[i]<='z':\n",
        "      upper=True\n",
        "      # s+=user[i]\n",
        "      s+=chr(ord(user[i])-32)\n",
        "    else:\n",
        "      # s+=chr(ord(user[i])-32)\n",
        "      s+=user[i]\n",
        "print(s)\n",
        "\n"
      ]
    },
    {
      "cell_type": "markdown",
      "metadata": {
        "id": "L-j2Eh3whpKZ"
      },
      "source": [
        "**Task 19**"
      ]
    },
    {
      "cell_type": "code",
      "execution_count": null,
      "metadata": {
        "id": "XJOoQerChl17"
      },
      "outputs": [],
      "source": []
    }
  ],
  "metadata": {
    "colab": {
      "provenance": []
    },
    "kernelspec": {
      "display_name": "Python 3",
      "language": "python",
      "name": "python3"
    },
    "language_info": {
      "name": "python",
      "version": "3.10.7 (tags/v3.10.7:6cc6b13, Sep  5 2022, 14:08:36) [MSC v.1933 64 bit (AMD64)]"
    },
    "vscode": {
      "interpreter": {
        "hash": "45446571a1dd78e2e32e7d307011dd88be5012a536fa99b069f150ccdbbf577b"
      }
    }
  },
  "nbformat": 4,
  "nbformat_minor": 0
}
